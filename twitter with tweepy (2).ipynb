{
 "cells": [
  {
   "cell_type": "markdown",
   "metadata": {},
   "source": [
    "# Twitter data analysis of tweets with #querdenken\n",
    "### Aims\n",
    "* learn how to use the Twitter API with Python\n",
    "* get into the basics of text mining and NLP\n",
    "* get an idea about #querdenken tweets using discriptive analysis, sentiment analysis, bigrams \n",
    "* get better at data manipulation using pandas"
   ]
  },
  {
   "cell_type": "code",
   "execution_count": 436,
   "metadata": {},
   "outputs": [],
   "source": [
    "#import sys\n",
    "#!{sys.executable} -m pip install tweepy"
   ]
  },
  {
   "cell_type": "code",
   "execution_count": 432,
   "metadata": {},
   "outputs": [],
   "source": [
    "#import sys\n",
    "#!{sys.executable} -m pip install googletrans"
   ]
  },
  {
   "cell_type": "code",
   "execution_count": 433,
   "metadata": {},
   "outputs": [],
   "source": [
    "#import sys\n",
    "#!{sys.executable} -m pip install geotext"
   ]
  },
  {
   "cell_type": "code",
   "execution_count": 434,
   "metadata": {},
   "outputs": [],
   "source": [
    "#import sys\n",
    "#!{sys.executable} -m pip install nltk "
   ]
  },
  {
   "cell_type": "code",
   "execution_count": 435,
   "metadata": {},
   "outputs": [],
   "source": [
    "#import sys\n",
    "#!{sys.executable} -m pip install vaderSentiment"
   ]
  },
  {
   "cell_type": "code",
   "execution_count": 208,
   "metadata": {},
   "outputs": [],
   "source": [
    "import os\n",
    "import tweepy as tw\n",
    "import pandas as pd\n",
    "import numpy as np "
   ]
  },
  {
   "cell_type": "markdown",
   "metadata": {},
   "source": [
    "# Getting tweets from Twitter"
   ]
  },
  {
   "cell_type": "code",
   "execution_count": 2,
   "metadata": {},
   "outputs": [],
   "source": [
    "consumer_key= 'xxx'\n",
    "consumer_secret= 'xxx'\n",
    "access_token= 'xxx'\n",
    "access_token_secret= 'xxx'"
   ]
  },
  {
   "cell_type": "code",
   "execution_count": 3,
   "metadata": {},
   "outputs": [],
   "source": [
    "auth = tw.OAuthHandler(consumer_key, consumer_secret)\n",
    "auth.set_access_token(access_token, access_token_secret)\n",
    "api = tw.API(auth, wait_on_rate_limit=True)"
   ]
  },
  {
   "cell_type": "code",
   "execution_count": 250,
   "metadata": {},
   "outputs": [],
   "source": [
    "# Define the search term and the date_since date as variables\n",
    "search_words = \"#querdenken\"\n",
    "date_since = \"2020-10-01\"\n"
   ]
  },
  {
   "cell_type": "code",
   "execution_count": 251,
   "metadata": {},
   "outputs": [
    {
     "data": {
      "text/plain": [
       "'#querdenken -filter:retweets'"
      ]
     },
     "execution_count": 251,
     "metadata": {},
     "output_type": "execute_result"
    }
   ],
   "source": [
    "#tweepy documentation: https://pythonhosted.org/tweepy/index.html\n",
    "new_search = search_words + \" -filter:retweets\"\n",
    "new_search"
   ]
  },
  {
   "cell_type": "code",
   "execution_count": 542,
   "metadata": {},
   "outputs": [],
   "source": [
    "#get all available attributes\n",
    "\n",
    "tweets = tw.Cursor(api.search, \n",
    "                           q=new_search,\n",
    "                           lang=\"de\",\n",
    "                           tweet_mode=\"extended\",\n",
    "                           retry_count = 5, #retry 5 times\n",
    "                           retry_delay = 5, #seconds to wait for retry\n",
    "                           since=date_since).items(5000)\n",
    "\n",
    "\n",
    "users_locs = [[tweet.id, tweet.full_text, tweet.created_at,tweet.user.screen_name, tweet.user.location, tweet.geo, tweet.coordinates, tweet.in_reply_to_status_id, #tweet.quote_count, tweet.reply_count,\n",
    "               tweet.retweet_count, tweet.favorite_count] for tweet in tweets]\n",
    "#users_locs[1]"
   ]
  },
  {
   "cell_type": "code",
   "execution_count": 260,
   "metadata": {
    "scrolled": true
   },
   "outputs": [
    {
     "data": {
      "text/html": [
       "<div>\n",
       "<style scoped>\n",
       "    .dataframe tbody tr th:only-of-type {\n",
       "        vertical-align: middle;\n",
       "    }\n",
       "\n",
       "    .dataframe tbody tr th {\n",
       "        vertical-align: top;\n",
       "    }\n",
       "\n",
       "    .dataframe thead th {\n",
       "        text-align: right;\n",
       "    }\n",
       "</style>\n",
       "<table border=\"1\" class=\"dataframe\">\n",
       "  <thead>\n",
       "    <tr style=\"text-align: right;\">\n",
       "      <th></th>\n",
       "      <th>id</th>\n",
       "      <th>text</th>\n",
       "      <th>created_at</th>\n",
       "      <th>user</th>\n",
       "      <th>location</th>\n",
       "      <th>geo</th>\n",
       "      <th>coordinates</th>\n",
       "      <th>in_reply_to_status_id</th>\n",
       "      <th>retweet_count</th>\n",
       "      <th>favorite_count</th>\n",
       "    </tr>\n",
       "  </thead>\n",
       "  <tbody>\n",
       "    <tr>\n",
       "      <td>0</td>\n",
       "      <td>1332079879794417672</td>\n",
       "      <td>Hallo #Querdenken.\\nZwei Tatsachen:\\nDeutschla...</td>\n",
       "      <td>2020-11-26 21:52:46</td>\n",
       "      <td>felis_rex</td>\n",
       "      <td>Berlin</td>\n",
       "      <td>None</td>\n",
       "      <td>None</td>\n",
       "      <td>NaN</td>\n",
       "      <td>0</td>\n",
       "      <td>0</td>\n",
       "    </tr>\n",
       "    <tr>\n",
       "      <td>1</td>\n",
       "      <td>1332079613015633920</td>\n",
       "      <td>Alice im Lügenland darf heute in den @tagesthe...</td>\n",
       "      <td>2020-11-26 21:51:43</td>\n",
       "      <td>BirgitKieschni1</td>\n",
       "      <td>Bautzen, Sachsen</td>\n",
       "      <td>None</td>\n",
       "      <td>None</td>\n",
       "      <td>NaN</td>\n",
       "      <td>0</td>\n",
       "      <td>6</td>\n",
       "    </tr>\n",
       "    <tr>\n",
       "      <td>2</td>\n",
       "      <td>1332075645166374917</td>\n",
       "      <td>Parkplätze gibt's, jetzt scheitert es halt am ...</td>\n",
       "      <td>2020-11-26 21:35:57</td>\n",
       "      <td>demoticker161</td>\n",
       "      <td>Berlin</td>\n",
       "      <td>None</td>\n",
       "      <td>None</td>\n",
       "      <td>NaN</td>\n",
       "      <td>0</td>\n",
       "      <td>0</td>\n",
       "    </tr>\n",
       "    <tr>\n",
       "      <td>3</td>\n",
       "      <td>1332071626050048001</td>\n",
       "      <td>aaachso. #AttilaHildmann #Querdenken #Querdenk...</td>\n",
       "      <td>2020-11-26 21:19:59</td>\n",
       "      <td>2sofiaxy</td>\n",
       "      <td></td>\n",
       "      <td>None</td>\n",
       "      <td>None</td>\n",
       "      <td>NaN</td>\n",
       "      <td>0</td>\n",
       "      <td>1</td>\n",
       "    </tr>\n",
       "    <tr>\n",
       "      <td>4</td>\n",
       "      <td>1332071317454118914</td>\n",
       "      <td>Karel kritisiert, dass immer wieder Beiträge v...</td>\n",
       "      <td>2020-11-26 21:18:45</td>\n",
       "      <td>LeaksQuer</td>\n",
       "      <td></td>\n",
       "      <td>None</td>\n",
       "      <td>None</td>\n",
       "      <td>NaN</td>\n",
       "      <td>0</td>\n",
       "      <td>2</td>\n",
       "    </tr>\n",
       "    <tr>\n",
       "      <td>...</td>\n",
       "      <td>...</td>\n",
       "      <td>...</td>\n",
       "      <td>...</td>\n",
       "      <td>...</td>\n",
       "      <td>...</td>\n",
       "      <td>...</td>\n",
       "      <td>...</td>\n",
       "      <td>...</td>\n",
       "      <td>...</td>\n",
       "      <td>...</td>\n",
       "    </tr>\n",
       "    <tr>\n",
       "      <td>4352</td>\n",
       "      <td>1328797001467764738</td>\n",
       "      <td>Mein Tweet über NS - Relativierer, #Querdenken...</td>\n",
       "      <td>2020-11-17 20:27:47</td>\n",
       "      <td>MartinStauder</td>\n",
       "      <td>Regensburg</td>\n",
       "      <td>None</td>\n",
       "      <td>None</td>\n",
       "      <td>NaN</td>\n",
       "      <td>0</td>\n",
       "      <td>0</td>\n",
       "    </tr>\n",
       "    <tr>\n",
       "      <td>4353</td>\n",
       "      <td>1328796327845761024</td>\n",
       "      <td>@roman2838 @janskudlarek Ich tippe auf den \"Fa...</td>\n",
       "      <td>2020-11-17 20:25:07</td>\n",
       "      <td>humbughund</td>\n",
       "      <td></td>\n",
       "      <td>None</td>\n",
       "      <td>None</td>\n",
       "      <td>1.328794e+18</td>\n",
       "      <td>0</td>\n",
       "      <td>0</td>\n",
       "    </tr>\n",
       "    <tr>\n",
       "      <td>4354</td>\n",
       "      <td>1328795522711302144</td>\n",
       "      <td>Auch aus #Kassel mobilisieren Schwurbler*innen...</td>\n",
       "      <td>2020-11-17 20:21:55</td>\n",
       "      <td>derquenken</td>\n",
       "      <td></td>\n",
       "      <td>None</td>\n",
       "      <td>None</td>\n",
       "      <td>NaN</td>\n",
       "      <td>0</td>\n",
       "      <td>0</td>\n",
       "    </tr>\n",
       "    <tr>\n",
       "      <td>4355</td>\n",
       "      <td>1328795221103161353</td>\n",
       "      <td>NIEDER MIT DER STRAẞENVERKEHRSORDNUNGS-DIKTATU...</td>\n",
       "      <td>2020-11-17 20:20:43</td>\n",
       "      <td>Jody2903</td>\n",
       "      <td>Moin Meister</td>\n",
       "      <td>None</td>\n",
       "      <td>None</td>\n",
       "      <td>NaN</td>\n",
       "      <td>0</td>\n",
       "      <td>1</td>\n",
       "    </tr>\n",
       "    <tr>\n",
       "      <td>4356</td>\n",
       "      <td>1328793125087834112</td>\n",
       "      <td>Witzig, als sich Michael #Ballweg mit dem Reic...</td>\n",
       "      <td>2020-11-17 20:12:23</td>\n",
       "      <td>Nightmare_Keks</td>\n",
       "      <td>Kempten (Allgäu), Deutschland</td>\n",
       "      <td>None</td>\n",
       "      <td>None</td>\n",
       "      <td>NaN</td>\n",
       "      <td>3</td>\n",
       "      <td>24</td>\n",
       "    </tr>\n",
       "  </tbody>\n",
       "</table>\n",
       "<p>4357 rows × 10 columns</p>\n",
       "</div>"
      ],
      "text/plain": [
       "                       id                                               text  \\\n",
       "0     1332079879794417672  Hallo #Querdenken.\\nZwei Tatsachen:\\nDeutschla...   \n",
       "1     1332079613015633920  Alice im Lügenland darf heute in den @tagesthe...   \n",
       "2     1332075645166374917  Parkplätze gibt's, jetzt scheitert es halt am ...   \n",
       "3     1332071626050048001  aaachso. #AttilaHildmann #Querdenken #Querdenk...   \n",
       "4     1332071317454118914  Karel kritisiert, dass immer wieder Beiträge v...   \n",
       "...                   ...                                                ...   \n",
       "4352  1328797001467764738  Mein Tweet über NS - Relativierer, #Querdenken...   \n",
       "4353  1328796327845761024  @roman2838 @janskudlarek Ich tippe auf den \"Fa...   \n",
       "4354  1328795522711302144  Auch aus #Kassel mobilisieren Schwurbler*innen...   \n",
       "4355  1328795221103161353  NIEDER MIT DER STRAẞENVERKEHRSORDNUNGS-DIKTATU...   \n",
       "4356  1328793125087834112  Witzig, als sich Michael #Ballweg mit dem Reic...   \n",
       "\n",
       "              created_at             user                       location  \\\n",
       "0    2020-11-26 21:52:46        felis_rex                         Berlin   \n",
       "1    2020-11-26 21:51:43  BirgitKieschni1               Bautzen, Sachsen   \n",
       "2    2020-11-26 21:35:57    demoticker161                         Berlin   \n",
       "3    2020-11-26 21:19:59         2sofiaxy                                  \n",
       "4    2020-11-26 21:18:45        LeaksQuer                                  \n",
       "...                  ...              ...                            ...   \n",
       "4352 2020-11-17 20:27:47    MartinStauder                     Regensburg   \n",
       "4353 2020-11-17 20:25:07       humbughund                                  \n",
       "4354 2020-11-17 20:21:55       derquenken                                  \n",
       "4355 2020-11-17 20:20:43         Jody2903                   Moin Meister   \n",
       "4356 2020-11-17 20:12:23   Nightmare_Keks  Kempten (Allgäu), Deutschland   \n",
       "\n",
       "       geo coordinates  in_reply_to_status_id  retweet_count  favorite_count  \n",
       "0     None        None                    NaN              0               0  \n",
       "1     None        None                    NaN              0               6  \n",
       "2     None        None                    NaN              0               0  \n",
       "3     None        None                    NaN              0               1  \n",
       "4     None        None                    NaN              0               2  \n",
       "...    ...         ...                    ...            ...             ...  \n",
       "4352  None        None                    NaN              0               0  \n",
       "4353  None        None           1.328794e+18              0               0  \n",
       "4354  None        None                    NaN              0               0  \n",
       "4355  None        None                    NaN              0               1  \n",
       "4356  None        None                    NaN              3              24  \n",
       "\n",
       "[4357 rows x 10 columns]"
      ]
     },
     "execution_count": 260,
     "metadata": {},
     "output_type": "execute_result"
    }
   ],
   "source": [
    "tweet_text = pd.DataFrame(data=users_locs, \n",
    "                    columns=['id', 'text', 'created_at', 'user', 'location', 'geo', 'coordinates', 'in_reply_to_status_id', 'retweet_count', 'favorite_count'])\n",
    "tweet_text.head()"
   ]
  },
  {
   "cell_type": "code",
   "execution_count": 180,
   "metadata": {},
   "outputs": [
    {
     "data": {
      "text/plain": [
       "'9 min Wahnsinn 😂🤣😅. Guckt euch das an. Viele #Janas #Covidioten #Deppen #Nazis und verrückte Menschen.\\n\\nIch lache gerade Tränen und habe erst 2 min geguckt😂. \\n#fckafd \\n\\nSchau dir \"Der Corona-Soundtrack, Vol. 2: \"Best Of\" Hygienedemos\" auf YouTube an https://t.co/eVgkDEVdZq'"
      ]
     },
     "execution_count": 180,
     "metadata": {},
     "output_type": "execute_result"
    }
   ],
   "source": [
    "tweet_text.text[1]"
   ]
  },
  {
   "cell_type": "code",
   "execution_count": 265,
   "metadata": {},
   "outputs": [],
   "source": [
    "#Clean out all the tweets that are replies\n",
    "tweet_text=tweet_text.loc[tweet_text['in_reply_to_status_id'].isnull()]"
   ]
  },
  {
   "cell_type": "code",
   "execution_count": 296,
   "metadata": {},
   "outputs": [
    {
     "data": {
      "text/plain": [
       "(3204, 14)"
      ]
     },
     "execution_count": 296,
     "metadata": {},
     "output_type": "execute_result"
    }
   ],
   "source": [
    "tweet_text.shape"
   ]
  },
  {
   "cell_type": "code",
   "execution_count": 529,
   "metadata": {},
   "outputs": [
    {
     "data": {
      "text/html": [
       "<div>\n",
       "<style scoped>\n",
       "    .dataframe tbody tr th:only-of-type {\n",
       "        vertical-align: middle;\n",
       "    }\n",
       "\n",
       "    .dataframe tbody tr th {\n",
       "        vertical-align: top;\n",
       "    }\n",
       "\n",
       "    .dataframe thead th {\n",
       "        text-align: right;\n",
       "    }\n",
       "</style>\n",
       "<table border=\"1\" class=\"dataframe\">\n",
       "  <thead>\n",
       "    <tr style=\"text-align: right;\">\n",
       "      <th></th>\n",
       "      <th>id</th>\n",
       "      <th>text</th>\n",
       "      <th>created_at</th>\n",
       "      <th>user</th>\n",
       "      <th>location</th>\n",
       "      <th>geo</th>\n",
       "      <th>coordinates</th>\n",
       "      <th>in_reply_to_status_id</th>\n",
       "      <th>retweet_count</th>\n",
       "      <th>favorite_count</th>\n",
       "      <th>...</th>\n",
       "      <th>location_city</th>\n",
       "      <th>sentiment_class</th>\n",
       "      <th>text_cleaned_full</th>\n",
       "      <th>text_cleaned_full_without_stop_words</th>\n",
       "      <th>compound</th>\n",
       "      <th>neg</th>\n",
       "      <th>neu</th>\n",
       "      <th>pos</th>\n",
       "      <th>text_hashtags_only</th>\n",
       "      <th>created_date</th>\n",
       "    </tr>\n",
       "  </thead>\n",
       "  <tbody>\n",
       "    <tr>\n",
       "      <td>0</td>\n",
       "      <td>1332079879794417672</td>\n",
       "      <td>Hallo #Querdenken.\\nZwei Tatsachen:\\nDeutschla...</td>\n",
       "      <td>2020-11-26 21:52:46</td>\n",
       "      <td>felis_rex</td>\n",
       "      <td>Berlin</td>\n",
       "      <td>NaN</td>\n",
       "      <td>NaN</td>\n",
       "      <td>NaN</td>\n",
       "      <td>0</td>\n",
       "      <td>0</td>\n",
       "      <td>...</td>\n",
       "      <td>Berlin</td>\n",
       "      <td>1</td>\n",
       "      <td>hallo querdenken zwei tatsachen deutschland is...</td>\n",
       "      <td>hallo querdenken zwei tatsachen deutschland di...</td>\n",
       "      <td>-0.8439</td>\n",
       "      <td>0.197</td>\n",
       "      <td>0.803</td>\n",
       "      <td>0.0</td>\n",
       "      <td>#querdenken</td>\n",
       "      <td>2020-11-26 21:52:46</td>\n",
       "    </tr>\n",
       "    <tr>\n",
       "      <td>1</td>\n",
       "      <td>1332079613015633920</td>\n",
       "      <td>Alice im Lügenland darf heute in den @tagesthe...</td>\n",
       "      <td>2020-11-26 21:51:43</td>\n",
       "      <td>BirgitKieschni1</td>\n",
       "      <td>Bautzen, Sachsen</td>\n",
       "      <td>NaN</td>\n",
       "      <td>NaN</td>\n",
       "      <td>NaN</td>\n",
       "      <td>0</td>\n",
       "      <td>6</td>\n",
       "      <td>...</td>\n",
       "      <td>Bautzen</td>\n",
       "      <td>1</td>\n",
       "      <td>alice im lügenland darf heute in den  ihre unw...</td>\n",
       "      <td>alice lügenland darf heute unwahrheiten verbre...</td>\n",
       "      <td>-0.6360</td>\n",
       "      <td>0.107</td>\n",
       "      <td>0.893</td>\n",
       "      <td>0.0</td>\n",
       "      <td>#bautzen #neuenrechten #afd #reichsbürger #ib ...</td>\n",
       "      <td>2020-11-26 21:51:43</td>\n",
       "    </tr>\n",
       "    <tr>\n",
       "      <td>2</td>\n",
       "      <td>1332075645166374917</td>\n",
       "      <td>Parkplätze gibt's, jetzt scheitert es halt am ...</td>\n",
       "      <td>2020-11-26 21:35:57</td>\n",
       "      <td>demoticker161</td>\n",
       "      <td>Berlin</td>\n",
       "      <td>NaN</td>\n",
       "      <td>NaN</td>\n",
       "      <td>NaN</td>\n",
       "      <td>0</td>\n",
       "      <td>0</td>\n",
       "      <td>...</td>\n",
       "      <td>Berlin</td>\n",
       "      <td>3</td>\n",
       "      <td>parkplätze gibts jetzt scheitert es halt am we...</td>\n",
       "      <td>parkplätze gibts scheitert halt wetter querden...</td>\n",
       "      <td>0.0000</td>\n",
       "      <td>0.000</td>\n",
       "      <td>1.000</td>\n",
       "      <td>0.0</td>\n",
       "      <td>#querdenken #noquerdenken #leerdenker</td>\n",
       "      <td>2020-11-26 21:35:57</td>\n",
       "    </tr>\n",
       "    <tr>\n",
       "      <td>3</td>\n",
       "      <td>1332071626050048001</td>\n",
       "      <td>aaachso. #AttilaHildmann #Querdenken #Querdenk...</td>\n",
       "      <td>2020-11-26 21:19:59</td>\n",
       "      <td>2sofiaxy</td>\n",
       "      <td>NaN</td>\n",
       "      <td>NaN</td>\n",
       "      <td>NaN</td>\n",
       "      <td>NaN</td>\n",
       "      <td>0</td>\n",
       "      <td>1</td>\n",
       "      <td>...</td>\n",
       "      <td>NaN</td>\n",
       "      <td>3</td>\n",
       "      <td>aaachso attilahildmann querdenken querdenker i...</td>\n",
       "      <td>aaachso attilahildmann querdenken querdenker i...</td>\n",
       "      <td>0.0000</td>\n",
       "      <td>0.000</td>\n",
       "      <td>1.000</td>\n",
       "      <td>0.0</td>\n",
       "      <td>#attilahildmann #querdenken #querdenker #impfe...</td>\n",
       "      <td>2020-11-26 21:19:59</td>\n",
       "    </tr>\n",
       "    <tr>\n",
       "      <td>4</td>\n",
       "      <td>1332071317454118914</td>\n",
       "      <td>Karel kritisiert, dass immer wieder Beiträge v...</td>\n",
       "      <td>2020-11-26 21:18:45</td>\n",
       "      <td>LeaksQuer</td>\n",
       "      <td>NaN</td>\n",
       "      <td>NaN</td>\n",
       "      <td>NaN</td>\n",
       "      <td>NaN</td>\n",
       "      <td>0</td>\n",
       "      <td>2</td>\n",
       "      <td>...</td>\n",
       "      <td>NaN</td>\n",
       "      <td>1</td>\n",
       "      <td>karel kritisiert dass immer wieder beiträge vo...</td>\n",
       "      <td>karel kritisiert immer beiträge neonazis querd...</td>\n",
       "      <td>-0.5994</td>\n",
       "      <td>0.196</td>\n",
       "      <td>0.804</td>\n",
       "      <td>0.0</td>\n",
       "      <td>#querdenken</td>\n",
       "      <td>2020-11-26 21:18:45</td>\n",
       "    </tr>\n",
       "  </tbody>\n",
       "</table>\n",
       "<p>5 rows × 23 columns</p>\n",
       "</div>"
      ],
      "text/plain": [
       "                    id                                               text  \\\n",
       "0  1332079879794417672  Hallo #Querdenken.\\nZwei Tatsachen:\\nDeutschla...   \n",
       "1  1332079613015633920  Alice im Lügenland darf heute in den @tagesthe...   \n",
       "2  1332075645166374917  Parkplätze gibt's, jetzt scheitert es halt am ...   \n",
       "3  1332071626050048001  aaachso. #AttilaHildmann #Querdenken #Querdenk...   \n",
       "4  1332071317454118914  Karel kritisiert, dass immer wieder Beiträge v...   \n",
       "\n",
       "            created_at             user          location  geo coordinates  \\\n",
       "0  2020-11-26 21:52:46        felis_rex            Berlin  NaN         NaN   \n",
       "1  2020-11-26 21:51:43  BirgitKieschni1  Bautzen, Sachsen  NaN         NaN   \n",
       "2  2020-11-26 21:35:57    demoticker161            Berlin  NaN         NaN   \n",
       "3  2020-11-26 21:19:59         2sofiaxy               NaN  NaN         NaN   \n",
       "4  2020-11-26 21:18:45        LeaksQuer               NaN  NaN         NaN   \n",
       "\n",
       "   in_reply_to_status_id  retweet_count  favorite_count  ... location_city  \\\n",
       "0                    NaN              0               0  ...        Berlin   \n",
       "1                    NaN              0               6  ...       Bautzen   \n",
       "2                    NaN              0               0  ...        Berlin   \n",
       "3                    NaN              0               1  ...           NaN   \n",
       "4                    NaN              0               2  ...           NaN   \n",
       "\n",
       "  sentiment_class                                  text_cleaned_full  \\\n",
       "0               1  hallo querdenken zwei tatsachen deutschland is...   \n",
       "1               1  alice im lügenland darf heute in den  ihre unw...   \n",
       "2               3  parkplätze gibts jetzt scheitert es halt am we...   \n",
       "3               3  aaachso attilahildmann querdenken querdenker i...   \n",
       "4               1  karel kritisiert dass immer wieder beiträge vo...   \n",
       "\n",
       "                text_cleaned_full_without_stop_words  compound    neg    neu  \\\n",
       "0  hallo querdenken zwei tatsachen deutschland di...   -0.8439  0.197  0.803   \n",
       "1  alice lügenland darf heute unwahrheiten verbre...   -0.6360  0.107  0.893   \n",
       "2  parkplätze gibts scheitert halt wetter querden...    0.0000  0.000  1.000   \n",
       "3  aaachso attilahildmann querdenken querdenker i...    0.0000  0.000  1.000   \n",
       "4  karel kritisiert immer beiträge neonazis querd...   -0.5994  0.196  0.804   \n",
       "\n",
       "   pos                                 text_hashtags_only        created_date  \n",
       "0  0.0                                        #querdenken 2020-11-26 21:52:46  \n",
       "1  0.0  #bautzen #neuenrechten #afd #reichsbürger #ib ... 2020-11-26 21:51:43  \n",
       "2  0.0              #querdenken #noquerdenken #leerdenker 2020-11-26 21:35:57  \n",
       "3  0.0  #attilahildmann #querdenken #querdenker #impfe... 2020-11-26 21:19:59  \n",
       "4  0.0                                        #querdenken 2020-11-26 21:18:45  \n",
       "\n",
       "[5 rows x 23 columns]"
      ]
     },
     "execution_count": 529,
     "metadata": {},
     "output_type": "execute_result"
    }
   ],
   "source": [
    "tweet_text.head()"
   ]
  },
  {
   "cell_type": "markdown",
   "metadata": {},
   "source": [
    "## translate tweets to english"
   ]
  },
  {
   "cell_type": "code",
   "execution_count": 539,
   "metadata": {},
   "outputs": [],
   "source": [
    "#from googletrans import Translator\n",
    "\n",
    "#translator = Translator()\n",
    "#translator.translate('Damit niemand auf die FakeNews reinfällt').text"
   ]
  },
  {
   "cell_type": "code",
   "execution_count": 263,
   "metadata": {},
   "outputs": [],
   "source": [
    "#tweet_text['translated_en']=tweet_text['text'].apply(translator.translate, src='de', dest='en').apply(getattr, args=('text',))"
   ]
  },
  {
   "cell_type": "code",
   "execution_count": 443,
   "metadata": {},
   "outputs": [],
   "source": [
    "#tweet_text.head()"
   ]
  },
  {
   "cell_type": "markdown",
   "metadata": {},
   "source": [
    "## Pre process text\n"
   ]
  },
  {
   "cell_type": "code",
   "execution_count": 269,
   "metadata": {},
   "outputs": [],
   "source": [
    "#from nltk.corpus import stopwords\n",
    "# stopwords from nltk package \n",
    "import nltk\n",
    "#nltk.download('stopwords')\n",
    "#nltk.download('punkt')\n",
    "import re\n",
    "import string\n",
    "#from itertools import groupby\n",
    "#import pyLDAvis\n",
    "#import pyLDAvis.sklearn\n",
    "#pyLDAvis.enable_notebook()\n"
   ]
  },
  {
   "cell_type": "code",
   "execution_count": 455,
   "metadata": {},
   "outputs": [],
   "source": [
    "# preprocess with re package for regular expressions and nltk\n",
    "# preprocessing of text on python: https://medium.com/@datamonsters/text-preprocessing-in-python-steps-tools-and-examples-bf025f872908\n",
    "\n",
    "def clean_text(text):\n",
    "    '''Make text lowercase, remove reply, remove text in square brackets, remove links, remove user mention,\n",
    "    remove punctuation except #, remove numbers and remove words containing numbers.'''\n",
    "        \n",
    "    text = text.lower()\n",
    "    text = re.sub('^rt', '', text)\n",
    "    text = re.sub('\\[.*?\\]', '', text)\n",
    "    text = re.sub(re_url, '', text)\n",
    "    text = re.sub('<.*?>+', '', text)\n",
    "    text = re.sub('@\\w+', '', text)\n",
    "    remove = string.punctuation\n",
    "    remove = remove.replace(\"#\", \"\") # don't remove hashtag\n",
    "    text = re.sub('[%s]' % re.escape(remove), '', text)\n",
    "    text = re.sub('\\n', ' ', text)\n",
    "    text = re.sub('\\w*\\d\\w*', '', text)\n",
    "    \n",
    "    return text"
   ]
  },
  {
   "cell_type": "code",
   "execution_count": 454,
   "metadata": {},
   "outputs": [],
   "source": [
    "stop_words = stopwords.words('german')\n",
    "\n",
    "re_url = r'(?:http|ftp|https)://(?:[\\w_-]+(?:(?:\\.[\\w_-]+)+))(?:[\\w.,@?^=%&:/~+#-]*[\\w@?^=%&/~+#-])?'"
   ]
  },
  {
   "cell_type": "code",
   "execution_count": 540,
   "metadata": {},
   "outputs": [],
   "source": [
    "#stop_words"
   ]
  },
  {
   "cell_type": "code",
   "execution_count": 456,
   "metadata": {},
   "outputs": [],
   "source": [
    "# Apply cleaning function\n",
    "\n",
    "tweet_text['text_cleaned'] = tweet_text['translated_en'].apply(lambda x: clean_text(x))"
   ]
  },
  {
   "cell_type": "code",
   "execution_count": 457,
   "metadata": {},
   "outputs": [],
   "source": [
    "# Remove stop words\n",
    "tweet_text['text_cleaned_without_stop_words'] = tweet_text['text_cleaned'].str.split() \\\n",
    "    .apply(lambda x: [word for word in x if word not in stop_words]) \\\n",
    "    .apply(lambda x: ' '.join(x))"
   ]
  },
  {
   "cell_type": "code",
   "execution_count": 462,
   "metadata": {},
   "outputs": [
    {
     "data": {
      "text/html": [
       "<div>\n",
       "<style scoped>\n",
       "    .dataframe tbody tr th:only-of-type {\n",
       "        vertical-align: middle;\n",
       "    }\n",
       "\n",
       "    .dataframe tbody tr th {\n",
       "        vertical-align: top;\n",
       "    }\n",
       "\n",
       "    .dataframe thead th {\n",
       "        text-align: right;\n",
       "    }\n",
       "</style>\n",
       "<table border=\"1\" class=\"dataframe\">\n",
       "  <thead>\n",
       "    <tr style=\"text-align: right;\">\n",
       "      <th></th>\n",
       "      <th>id</th>\n",
       "      <th>text</th>\n",
       "      <th>created_at</th>\n",
       "      <th>user</th>\n",
       "      <th>location</th>\n",
       "      <th>geo</th>\n",
       "      <th>coordinates</th>\n",
       "      <th>in_reply_to_status_id</th>\n",
       "      <th>retweet_count</th>\n",
       "      <th>favorite_count</th>\n",
       "      <th>...</th>\n",
       "      <th>text_cleaned</th>\n",
       "      <th>text_cleaned_without_stop_words</th>\n",
       "      <th>location_city</th>\n",
       "      <th>compound</th>\n",
       "      <th>neg</th>\n",
       "      <th>neu</th>\n",
       "      <th>pos</th>\n",
       "      <th>sentiment_class</th>\n",
       "      <th>text_cleaned_full</th>\n",
       "      <th>text_cleaned_full_without_stop_words</th>\n",
       "    </tr>\n",
       "  </thead>\n",
       "  <tbody>\n",
       "    <tr>\n",
       "      <td>0</td>\n",
       "      <td>1332079879794417672</td>\n",
       "      <td>Hallo #Querdenken.\\nZwei Tatsachen:\\nDeutschla...</td>\n",
       "      <td>2020-11-26 21:52:46</td>\n",
       "      <td>felis_rex</td>\n",
       "      <td>Berlin</td>\n",
       "      <td>NaN</td>\n",
       "      <td>NaN</td>\n",
       "      <td>NaN</td>\n",
       "      <td>0</td>\n",
       "      <td>0</td>\n",
       "      <td>...</td>\n",
       "      <td>hallo #querdenken zwei tatsachen deutschland i...</td>\n",
       "      <td>hallo #querdenken zwei tatsachen deutschland d...</td>\n",
       "      <td>Berlin</td>\n",
       "      <td>-0.8439</td>\n",
       "      <td>0.197</td>\n",
       "      <td>0.803</td>\n",
       "      <td>0.000</td>\n",
       "      <td>1</td>\n",
       "      <td>hallo querdenken zwei tatsachen deutschland is...</td>\n",
       "      <td>hallo querdenken zwei tatsachen deutschland di...</td>\n",
       "    </tr>\n",
       "    <tr>\n",
       "      <td>1</td>\n",
       "      <td>1332079613015633920</td>\n",
       "      <td>Alice im Lügenland darf heute in den @tagesthe...</td>\n",
       "      <td>2020-11-26 21:51:43</td>\n",
       "      <td>BirgitKieschni1</td>\n",
       "      <td>Bautzen, Sachsen</td>\n",
       "      <td>NaN</td>\n",
       "      <td>NaN</td>\n",
       "      <td>NaN</td>\n",
       "      <td>0</td>\n",
       "      <td>6</td>\n",
       "      <td>...</td>\n",
       "      <td>alice im lügenland darf heute in den  ihre unw...</td>\n",
       "      <td>alice lügenland darf heute unwahrheiten verbre...</td>\n",
       "      <td>Bautzen</td>\n",
       "      <td>-0.6360</td>\n",
       "      <td>0.107</td>\n",
       "      <td>0.893</td>\n",
       "      <td>0.000</td>\n",
       "      <td>1</td>\n",
       "      <td>alice im lügenland darf heute in den  ihre unw...</td>\n",
       "      <td>alice lügenland darf heute unwahrheiten verbre...</td>\n",
       "    </tr>\n",
       "    <tr>\n",
       "      <td>2</td>\n",
       "      <td>1332075645166374917</td>\n",
       "      <td>Parkplätze gibt's, jetzt scheitert es halt am ...</td>\n",
       "      <td>2020-11-26 21:35:57</td>\n",
       "      <td>demoticker161</td>\n",
       "      <td>Berlin</td>\n",
       "      <td>NaN</td>\n",
       "      <td>NaN</td>\n",
       "      <td>NaN</td>\n",
       "      <td>0</td>\n",
       "      <td>0</td>\n",
       "      <td>...</td>\n",
       "      <td>parkplätze gibts jetzt scheitert es halt am we...</td>\n",
       "      <td>parkplätze gibts scheitert halt wetter #querde...</td>\n",
       "      <td>Berlin</td>\n",
       "      <td>0.0000</td>\n",
       "      <td>0.000</td>\n",
       "      <td>1.000</td>\n",
       "      <td>0.000</td>\n",
       "      <td>3</td>\n",
       "      <td>parkplätze gibts jetzt scheitert es halt am we...</td>\n",
       "      <td>parkplätze gibts scheitert halt wetter querden...</td>\n",
       "    </tr>\n",
       "    <tr>\n",
       "      <td>3</td>\n",
       "      <td>1332071626050048001</td>\n",
       "      <td>aaachso. #AttilaHildmann #Querdenken #Querdenk...</td>\n",
       "      <td>2020-11-26 21:19:59</td>\n",
       "      <td>2sofiaxy</td>\n",
       "      <td>NaN</td>\n",
       "      <td>NaN</td>\n",
       "      <td>NaN</td>\n",
       "      <td>NaN</td>\n",
       "      <td>0</td>\n",
       "      <td>1</td>\n",
       "      <td>...</td>\n",
       "      <td>aaachso #attilahildmann #querdenken #querdenke...</td>\n",
       "      <td>aaachso #attilahildmann #querdenken #querdenke...</td>\n",
       "      <td>NaN</td>\n",
       "      <td>0.0000</td>\n",
       "      <td>0.000</td>\n",
       "      <td>1.000</td>\n",
       "      <td>0.000</td>\n",
       "      <td>3</td>\n",
       "      <td>aaachso attilahildmann querdenken querdenker i...</td>\n",
       "      <td>aaachso attilahildmann querdenken querdenker i...</td>\n",
       "    </tr>\n",
       "    <tr>\n",
       "      <td>4</td>\n",
       "      <td>1332071317454118914</td>\n",
       "      <td>Karel kritisiert, dass immer wieder Beiträge v...</td>\n",
       "      <td>2020-11-26 21:18:45</td>\n",
       "      <td>LeaksQuer</td>\n",
       "      <td>NaN</td>\n",
       "      <td>NaN</td>\n",
       "      <td>NaN</td>\n",
       "      <td>NaN</td>\n",
       "      <td>0</td>\n",
       "      <td>2</td>\n",
       "      <td>...</td>\n",
       "      <td>karel kritisiert dass immer wieder beiträge vo...</td>\n",
       "      <td>karel kritisiert immer beiträge neonazis #quer...</td>\n",
       "      <td>NaN</td>\n",
       "      <td>-0.5994</td>\n",
       "      <td>0.196</td>\n",
       "      <td>0.804</td>\n",
       "      <td>0.000</td>\n",
       "      <td>1</td>\n",
       "      <td>karel kritisiert dass immer wieder beiträge vo...</td>\n",
       "      <td>karel kritisiert immer beiträge neonazis querd...</td>\n",
       "    </tr>\n",
       "    <tr>\n",
       "      <td>5</td>\n",
       "      <td>1332069688424198145</td>\n",
       "      <td>#Corona-Leugner beschweren sich weil man sie a...</td>\n",
       "      <td>2020-11-26 21:12:17</td>\n",
       "      <td>AJSalzgitter</td>\n",
       "      <td>Salzgitter</td>\n",
       "      <td>NaN</td>\n",
       "      <td>NaN</td>\n",
       "      <td>NaN</td>\n",
       "      <td>0</td>\n",
       "      <td>1</td>\n",
       "      <td>...</td>\n",
       "      <td>#coronaleugner beschweren sich weil man sie al...</td>\n",
       "      <td>#coronaleugner beschweren coronaleugner bezeic...</td>\n",
       "      <td>NaN</td>\n",
       "      <td>0.0000</td>\n",
       "      <td>0.000</td>\n",
       "      <td>1.000</td>\n",
       "      <td>0.000</td>\n",
       "      <td>3</td>\n",
       "      <td>coronaleugner beschweren sich weil man sie als...</td>\n",
       "      <td>coronaleugner beschweren coronaleugner bezeich...</td>\n",
       "    </tr>\n",
       "    <tr>\n",
       "      <td>6</td>\n",
       "      <td>1332069683831459841</td>\n",
       "      <td>Die Masken fallen langsam auch in den  #Querde...</td>\n",
       "      <td>2020-11-26 21:12:15</td>\n",
       "      <td>LeaksQuer</td>\n",
       "      <td>NaN</td>\n",
       "      <td>NaN</td>\n",
       "      <td>NaN</td>\n",
       "      <td>NaN</td>\n",
       "      <td>0</td>\n",
       "      <td>0</td>\n",
       "      <td>...</td>\n",
       "      <td>die masken fallen langsam auch in den  #querde...</td>\n",
       "      <td>masken fallen langsam #querdenken querdenken g...</td>\n",
       "      <td>NaN</td>\n",
       "      <td>-0.7506</td>\n",
       "      <td>0.416</td>\n",
       "      <td>0.584</td>\n",
       "      <td>0.000</td>\n",
       "      <td>1</td>\n",
       "      <td>die masken fallen langsam auch in den  querden...</td>\n",
       "      <td>masken fallen langsam querdenken querdenken gr...</td>\n",
       "    </tr>\n",
       "    <tr>\n",
       "      <td>7</td>\n",
       "      <td>1332068857008238593</td>\n",
       "      <td>#Corona: Anetta #Kahane: \"Verschwörungsideolog...</td>\n",
       "      <td>2020-11-26 21:08:58</td>\n",
       "      <td>Schnazjer</td>\n",
       "      <td>NaN</td>\n",
       "      <td>NaN</td>\n",
       "      <td>NaN</td>\n",
       "      <td>NaN</td>\n",
       "      <td>0</td>\n",
       "      <td>0</td>\n",
       "      <td>...</td>\n",
       "      <td>#corona anetta #kahane verschwörungsideologien...</td>\n",
       "      <td>#corona anetta #kahane verschwörungsideologien...</td>\n",
       "      <td>NaN</td>\n",
       "      <td>0.0000</td>\n",
       "      <td>0.000</td>\n",
       "      <td>1.000</td>\n",
       "      <td>0.000</td>\n",
       "      <td>3</td>\n",
       "      <td>corona anetta kahane verschwörungsideologien h...</td>\n",
       "      <td>corona anetta kahane verschwörungsideologien i...</td>\n",
       "    </tr>\n",
       "    <tr>\n",
       "      <td>8</td>\n",
       "      <td>1332068802138402821</td>\n",
       "      <td>#Corona: #Merkel stellt neue Regeln vor. Welch...</td>\n",
       "      <td>2020-11-26 21:08:45</td>\n",
       "      <td>Schnazjer</td>\n",
       "      <td>NaN</td>\n",
       "      <td>NaN</td>\n",
       "      <td>NaN</td>\n",
       "      <td>NaN</td>\n",
       "      <td>0</td>\n",
       "      <td>0</td>\n",
       "      <td>...</td>\n",
       "      <td>#corona #merkel stellt neue regeln vor welch e...</td>\n",
       "      <td>#corona #merkel stellt neue regeln welch samme...</td>\n",
       "      <td>NaN</td>\n",
       "      <td>0.0000</td>\n",
       "      <td>0.000</td>\n",
       "      <td>1.000</td>\n",
       "      <td>0.000</td>\n",
       "      <td>3</td>\n",
       "      <td>corona merkel stellt neue regeln vor welch ein...</td>\n",
       "      <td>corona merkel stellt neue regeln welch sammels...</td>\n",
       "    </tr>\n",
       "    <tr>\n",
       "      <td>9</td>\n",
       "      <td>1332068078167977985</td>\n",
       "      <td>Herr @Michael_Ballweg , sind Sie sich sicher, ...</td>\n",
       "      <td>2020-11-26 21:05:53</td>\n",
       "      <td>opbg6</td>\n",
       "      <td>NaN</td>\n",
       "      <td>NaN</td>\n",
       "      <td>NaN</td>\n",
       "      <td>NaN</td>\n",
       "      <td>0</td>\n",
       "      <td>0</td>\n",
       "      <td>...</td>\n",
       "      <td>herr   sind sie sich sicher dass sie in der po...</td>\n",
       "      <td>herr sicher position sprüche klopfen amp zudem...</td>\n",
       "      <td>NaN</td>\n",
       "      <td>0.0000</td>\n",
       "      <td>0.000</td>\n",
       "      <td>1.000</td>\n",
       "      <td>0.000</td>\n",
       "      <td>3</td>\n",
       "      <td>herr   sind sie sich sicher dass sie in der po...</td>\n",
       "      <td>herr sicher position sprüche klopfen amp zudem...</td>\n",
       "    </tr>\n",
       "    <tr>\n",
       "      <td>10</td>\n",
       "      <td>1332068051550949381</td>\n",
       "      <td>Ja, ich bin auch einer! \\n#COVID19 #Hildburgha...</td>\n",
       "      <td>2020-11-26 21:05:46</td>\n",
       "      <td>cyan_rk</td>\n",
       "      <td>NaN</td>\n",
       "      <td>NaN</td>\n",
       "      <td>NaN</td>\n",
       "      <td>NaN</td>\n",
       "      <td>0</td>\n",
       "      <td>0</td>\n",
       "      <td>...</td>\n",
       "      <td>ja ich bin auch einer  # #hildburghausen #quer...</td>\n",
       "      <td>ja # #hildburghausen #querdenken #zwangsimpfung</td>\n",
       "      <td>NaN</td>\n",
       "      <td>0.0000</td>\n",
       "      <td>0.000</td>\n",
       "      <td>1.000</td>\n",
       "      <td>0.000</td>\n",
       "      <td>3</td>\n",
       "      <td>ja ich bin auch einer   hildburghausen querden...</td>\n",
       "      <td>ja hildburghausen querdenken zwangsimpfung</td>\n",
       "    </tr>\n",
       "    <tr>\n",
       "      <td>11</td>\n",
       "      <td>1332065296274886658</td>\n",
       "      <td>WTF! Seid ihr jetzt völlig abgedreht, @ARD_Pre...</td>\n",
       "      <td>2020-11-26 20:54:49</td>\n",
       "      <td>DietherAst</td>\n",
       "      <td>Marbella, Spanien</td>\n",
       "      <td>NaN</td>\n",
       "      <td>NaN</td>\n",
       "      <td>NaN</td>\n",
       "      <td>0</td>\n",
       "      <td>4</td>\n",
       "      <td>...</td>\n",
       "      <td>wtf seid ihr jetzt völlig abgedreht  bin fassu...</td>\n",
       "      <td>wtf seid völlig abgedreht fassungslos könnt sc...</td>\n",
       "      <td>Marbella</td>\n",
       "      <td>-0.7339</td>\n",
       "      <td>0.198</td>\n",
       "      <td>0.802</td>\n",
       "      <td>0.000</td>\n",
       "      <td>1</td>\n",
       "      <td>wtf seid ihr jetzt völlig abgedreht  bin fassu...</td>\n",
       "      <td>wtf seid völlig abgedreht fassungslos könnt sc...</td>\n",
       "    </tr>\n",
       "    <tr>\n",
       "      <td>12</td>\n",
       "      <td>1332065250946985986</td>\n",
       "      <td>ACHSO????\\nMieser Feigling und Hetzer\\nVERHAFT...</td>\n",
       "      <td>2020-11-26 20:54:39</td>\n",
       "      <td>MaFro_1505</td>\n",
       "      <td>Leipzig, Deutschland</td>\n",
       "      <td>NaN</td>\n",
       "      <td>NaN</td>\n",
       "      <td>NaN</td>\n",
       "      <td>1</td>\n",
       "      <td>0</td>\n",
       "      <td>...</td>\n",
       "      <td>achso mieser feigling und hetzer verhaftung ge...</td>\n",
       "      <td>achso mieser feigling hetzer verhaftung geplan...</td>\n",
       "      <td>Leipzig</td>\n",
       "      <td>0.0000</td>\n",
       "      <td>0.000</td>\n",
       "      <td>1.000</td>\n",
       "      <td>0.000</td>\n",
       "      <td>3</td>\n",
       "      <td>achso mieser feigling und hetzer verhaftung ge...</td>\n",
       "      <td>achso mieser feigling hetzer verhaftung geplan...</td>\n",
       "    </tr>\n",
       "    <tr>\n",
       "      <td>13</td>\n",
       "      <td>1332062044103839758</td>\n",
       "      <td>Ben Epson, selbst anerkannter Top-Journalist, ...</td>\n",
       "      <td>2020-11-26 20:41:54</td>\n",
       "      <td>RolandBerg13</td>\n",
       "      <td>NaN</td>\n",
       "      <td>NaN</td>\n",
       "      <td>NaN</td>\n",
       "      <td>NaN</td>\n",
       "      <td>0</td>\n",
       "      <td>0</td>\n",
       "      <td>...</td>\n",
       "      <td>ben epson selbst anerkannter topjournalist erk...</td>\n",
       "      <td>ben epson anerkannter topjournalist erklärt me...</td>\n",
       "      <td>NaN</td>\n",
       "      <td>-0.2500</td>\n",
       "      <td>0.246</td>\n",
       "      <td>0.593</td>\n",
       "      <td>0.161</td>\n",
       "      <td>2</td>\n",
       "      <td>ben epson selbst anerkannter topjournalist erk...</td>\n",
       "      <td>ben epson anerkannter topjournalist erklärt me...</td>\n",
       "    </tr>\n",
       "    <tr>\n",
       "      <td>14</td>\n",
       "      <td>1332060926556639232</td>\n",
       "      <td>Es ist für nimand eine leichte zeit allso kopf...</td>\n",
       "      <td>2020-11-26 20:37:28</td>\n",
       "      <td>Nici74151742</td>\n",
       "      <td>NaN</td>\n",
       "      <td>NaN</td>\n",
       "      <td>NaN</td>\n",
       "      <td>NaN</td>\n",
       "      <td>0</td>\n",
       "      <td>2</td>\n",
       "      <td>...</td>\n",
       "      <td>es ist für nimand eine leichte zeit allso kopf...</td>\n",
       "      <td>nimand leichte zeit allso kopf hoch bald gesch...</td>\n",
       "      <td>NaN</td>\n",
       "      <td>-0.5994</td>\n",
       "      <td>0.130</td>\n",
       "      <td>0.870</td>\n",
       "      <td>0.000</td>\n",
       "      <td>1</td>\n",
       "      <td>es ist für nimand eine leichte zeit allso kopf...</td>\n",
       "      <td>nimand leichte zeit allso kopf hoch bald gesch...</td>\n",
       "    </tr>\n",
       "  </tbody>\n",
       "</table>\n",
       "<p>15 rows × 21 columns</p>\n",
       "</div>"
      ],
      "text/plain": [
       "                     id                                               text  \\\n",
       "0   1332079879794417672  Hallo #Querdenken.\\nZwei Tatsachen:\\nDeutschla...   \n",
       "1   1332079613015633920  Alice im Lügenland darf heute in den @tagesthe...   \n",
       "2   1332075645166374917  Parkplätze gibt's, jetzt scheitert es halt am ...   \n",
       "3   1332071626050048001  aaachso. #AttilaHildmann #Querdenken #Querdenk...   \n",
       "4   1332071317454118914  Karel kritisiert, dass immer wieder Beiträge v...   \n",
       "5   1332069688424198145  #Corona-Leugner beschweren sich weil man sie a...   \n",
       "6   1332069683831459841  Die Masken fallen langsam auch in den  #Querde...   \n",
       "7   1332068857008238593  #Corona: Anetta #Kahane: \"Verschwörungsideolog...   \n",
       "8   1332068802138402821  #Corona: #Merkel stellt neue Regeln vor. Welch...   \n",
       "9   1332068078167977985  Herr @Michael_Ballweg , sind Sie sich sicher, ...   \n",
       "10  1332068051550949381  Ja, ich bin auch einer! \\n#COVID19 #Hildburgha...   \n",
       "11  1332065296274886658  WTF! Seid ihr jetzt völlig abgedreht, @ARD_Pre...   \n",
       "12  1332065250946985986  ACHSO????\\nMieser Feigling und Hetzer\\nVERHAFT...   \n",
       "13  1332062044103839758  Ben Epson, selbst anerkannter Top-Journalist, ...   \n",
       "14  1332060926556639232  Es ist für nimand eine leichte zeit allso kopf...   \n",
       "\n",
       "             created_at             user              location  geo  \\\n",
       "0   2020-11-26 21:52:46        felis_rex                Berlin  NaN   \n",
       "1   2020-11-26 21:51:43  BirgitKieschni1      Bautzen, Sachsen  NaN   \n",
       "2   2020-11-26 21:35:57    demoticker161                Berlin  NaN   \n",
       "3   2020-11-26 21:19:59         2sofiaxy                   NaN  NaN   \n",
       "4   2020-11-26 21:18:45        LeaksQuer                   NaN  NaN   \n",
       "5   2020-11-26 21:12:17     AJSalzgitter           Salzgitter   NaN   \n",
       "6   2020-11-26 21:12:15        LeaksQuer                   NaN  NaN   \n",
       "7   2020-11-26 21:08:58        Schnazjer                   NaN  NaN   \n",
       "8   2020-11-26 21:08:45        Schnazjer                   NaN  NaN   \n",
       "9   2020-11-26 21:05:53            opbg6                   NaN  NaN   \n",
       "10  2020-11-26 21:05:46          cyan_rk                   NaN  NaN   \n",
       "11  2020-11-26 20:54:49       DietherAst     Marbella, Spanien  NaN   \n",
       "12  2020-11-26 20:54:39       MaFro_1505  Leipzig, Deutschland  NaN   \n",
       "13  2020-11-26 20:41:54     RolandBerg13                   NaN  NaN   \n",
       "14  2020-11-26 20:37:28     Nici74151742                   NaN  NaN   \n",
       "\n",
       "   coordinates  in_reply_to_status_id  retweet_count  favorite_count  ...  \\\n",
       "0          NaN                    NaN              0               0  ...   \n",
       "1          NaN                    NaN              0               6  ...   \n",
       "2          NaN                    NaN              0               0  ...   \n",
       "3          NaN                    NaN              0               1  ...   \n",
       "4          NaN                    NaN              0               2  ...   \n",
       "5          NaN                    NaN              0               1  ...   \n",
       "6          NaN                    NaN              0               0  ...   \n",
       "7          NaN                    NaN              0               0  ...   \n",
       "8          NaN                    NaN              0               0  ...   \n",
       "9          NaN                    NaN              0               0  ...   \n",
       "10         NaN                    NaN              0               0  ...   \n",
       "11         NaN                    NaN              0               4  ...   \n",
       "12         NaN                    NaN              1               0  ...   \n",
       "13         NaN                    NaN              0               0  ...   \n",
       "14         NaN                    NaN              0               2  ...   \n",
       "\n",
       "                                         text_cleaned  \\\n",
       "0   hallo #querdenken zwei tatsachen deutschland i...   \n",
       "1   alice im lügenland darf heute in den  ihre unw...   \n",
       "2   parkplätze gibts jetzt scheitert es halt am we...   \n",
       "3   aaachso #attilahildmann #querdenken #querdenke...   \n",
       "4   karel kritisiert dass immer wieder beiträge vo...   \n",
       "5   #coronaleugner beschweren sich weil man sie al...   \n",
       "6   die masken fallen langsam auch in den  #querde...   \n",
       "7   #corona anetta #kahane verschwörungsideologien...   \n",
       "8   #corona #merkel stellt neue regeln vor welch e...   \n",
       "9   herr   sind sie sich sicher dass sie in der po...   \n",
       "10  ja ich bin auch einer  # #hildburghausen #quer...   \n",
       "11  wtf seid ihr jetzt völlig abgedreht  bin fassu...   \n",
       "12  achso mieser feigling und hetzer verhaftung ge...   \n",
       "13  ben epson selbst anerkannter topjournalist erk...   \n",
       "14  es ist für nimand eine leichte zeit allso kopf...   \n",
       "\n",
       "                      text_cleaned_without_stop_words location_city compound  \\\n",
       "0   hallo #querdenken zwei tatsachen deutschland d...        Berlin  -0.8439   \n",
       "1   alice lügenland darf heute unwahrheiten verbre...       Bautzen  -0.6360   \n",
       "2   parkplätze gibts scheitert halt wetter #querde...        Berlin   0.0000   \n",
       "3   aaachso #attilahildmann #querdenken #querdenke...           NaN   0.0000   \n",
       "4   karel kritisiert immer beiträge neonazis #quer...           NaN  -0.5994   \n",
       "5   #coronaleugner beschweren coronaleugner bezeic...           NaN   0.0000   \n",
       "6   masken fallen langsam #querdenken querdenken g...           NaN  -0.7506   \n",
       "7   #corona anetta #kahane verschwörungsideologien...           NaN   0.0000   \n",
       "8   #corona #merkel stellt neue regeln welch samme...           NaN   0.0000   \n",
       "9   herr sicher position sprüche klopfen amp zudem...           NaN   0.0000   \n",
       "10    ja # #hildburghausen #querdenken #zwangsimpfung           NaN   0.0000   \n",
       "11  wtf seid völlig abgedreht fassungslos könnt sc...      Marbella  -0.7339   \n",
       "12  achso mieser feigling hetzer verhaftung geplan...       Leipzig   0.0000   \n",
       "13  ben epson anerkannter topjournalist erklärt me...           NaN  -0.2500   \n",
       "14  nimand leichte zeit allso kopf hoch bald gesch...           NaN  -0.5994   \n",
       "\n",
       "      neg    neu    pos  sentiment_class  \\\n",
       "0   0.197  0.803  0.000                1   \n",
       "1   0.107  0.893  0.000                1   \n",
       "2   0.000  1.000  0.000                3   \n",
       "3   0.000  1.000  0.000                3   \n",
       "4   0.196  0.804  0.000                1   \n",
       "5   0.000  1.000  0.000                3   \n",
       "6   0.416  0.584  0.000                1   \n",
       "7   0.000  1.000  0.000                3   \n",
       "8   0.000  1.000  0.000                3   \n",
       "9   0.000  1.000  0.000                3   \n",
       "10  0.000  1.000  0.000                3   \n",
       "11  0.198  0.802  0.000                1   \n",
       "12  0.000  1.000  0.000                3   \n",
       "13  0.246  0.593  0.161                2   \n",
       "14  0.130  0.870  0.000                1   \n",
       "\n",
       "                                    text_cleaned_full  \\\n",
       "0   hallo querdenken zwei tatsachen deutschland is...   \n",
       "1   alice im lügenland darf heute in den  ihre unw...   \n",
       "2   parkplätze gibts jetzt scheitert es halt am we...   \n",
       "3   aaachso attilahildmann querdenken querdenker i...   \n",
       "4   karel kritisiert dass immer wieder beiträge vo...   \n",
       "5   coronaleugner beschweren sich weil man sie als...   \n",
       "6   die masken fallen langsam auch in den  querden...   \n",
       "7   corona anetta kahane verschwörungsideologien h...   \n",
       "8   corona merkel stellt neue regeln vor welch ein...   \n",
       "9   herr   sind sie sich sicher dass sie in der po...   \n",
       "10  ja ich bin auch einer   hildburghausen querden...   \n",
       "11  wtf seid ihr jetzt völlig abgedreht  bin fassu...   \n",
       "12  achso mieser feigling und hetzer verhaftung ge...   \n",
       "13  ben epson selbst anerkannter topjournalist erk...   \n",
       "14  es ist für nimand eine leichte zeit allso kopf...   \n",
       "\n",
       "                 text_cleaned_full_without_stop_words  \n",
       "0   hallo querdenken zwei tatsachen deutschland di...  \n",
       "1   alice lügenland darf heute unwahrheiten verbre...  \n",
       "2   parkplätze gibts scheitert halt wetter querden...  \n",
       "3   aaachso attilahildmann querdenken querdenker i...  \n",
       "4   karel kritisiert immer beiträge neonazis querd...  \n",
       "5   coronaleugner beschweren coronaleugner bezeich...  \n",
       "6   masken fallen langsam querdenken querdenken gr...  \n",
       "7   corona anetta kahane verschwörungsideologien i...  \n",
       "8   corona merkel stellt neue regeln welch sammels...  \n",
       "9   herr sicher position sprüche klopfen amp zudem...  \n",
       "10         ja hildburghausen querdenken zwangsimpfung  \n",
       "11  wtf seid völlig abgedreht fassungslos könnt sc...  \n",
       "12  achso mieser feigling hetzer verhaftung geplan...  \n",
       "13  ben epson anerkannter topjournalist erklärt me...  \n",
       "14  nimand leichte zeit allso kopf hoch bald gesch...  \n",
       "\n",
       "[15 rows x 21 columns]"
      ]
     },
     "execution_count": 462,
     "metadata": {},
     "output_type": "execute_result"
    }
   ],
   "source": [
    "tweet_text.head(15)"
   ]
  },
  {
   "cell_type": "markdown",
   "metadata": {},
   "source": [
    "# Get Geo Data"
   ]
  },
  {
   "cell_type": "code",
   "execution_count": 280,
   "metadata": {},
   "outputs": [],
   "source": [
    "#normalize the city names\n",
    "from geotext import GeoText\n",
    "\n",
    "while len(places.cities)>0:\n",
    "    places = GeoText(tweet_text['location'][3])\n",
    "    places.cities[0]\n"
   ]
  },
  {
   "cell_type": "code",
   "execution_count": 281,
   "metadata": {},
   "outputs": [],
   "source": [
    "def geoparsing(text):\n",
    "    places = GeoText(text)\n",
    "    while len(places.cities)>0:\n",
    "        \n",
    "        return places.cities[0]\n",
    "    "
   ]
  },
  {
   "cell_type": "code",
   "execution_count": 282,
   "metadata": {},
   "outputs": [
    {
     "name": "stderr",
     "output_type": "stream",
     "text": [
      "/Users/darimapivovarova/opt/anaconda3/lib/python3.7/site-packages/ipykernel_launcher.py:1: SettingWithCopyWarning: \n",
      "A value is trying to be set on a copy of a slice from a DataFrame.\n",
      "Try using .loc[row_indexer,col_indexer] = value instead\n",
      "\n",
      "See the caveats in the documentation: http://pandas.pydata.org/pandas-docs/stable/user_guide/indexing.html#returning-a-view-versus-a-copy\n",
      "  \"\"\"Entry point for launching an IPython kernel.\n"
     ]
    }
   ],
   "source": [
    "tweet_text['location_city'] =tweet_text['location'].apply(lambda x: geoparsing(x))"
   ]
  },
  {
   "cell_type": "markdown",
   "metadata": {},
   "source": [
    "## top cities by number of tweets"
   ]
  },
  {
   "cell_type": "code",
   "execution_count": 287,
   "metadata": {},
   "outputs": [
    {
     "data": {
      "text/plain": [
       "Berlin          235\n",
       "Leipzig         123\n",
       "Munich           68\n",
       "Hamburg          44\n",
       "Bonn             36\n",
       "Hannover         29\n",
       "Karlsruhe        26\n",
       "Dresden          22\n",
       "Aachen           21\n",
       "Stuttgart        20\n",
       "Bremen           20\n",
       "University       19\n",
       "Regensburg       17\n",
       "Köln             14\n",
       "Freiburg         10\n",
       "Potsdam           7\n",
       "Braunschweig      7\n",
       "Kiel              7\n",
       "Oldenburg         7\n",
       "Duisburg          7\n",
       "Halle             6\n",
       "Schleswig         6\n",
       "Göttingen         6\n",
       "Ulm               6\n",
       "Celle             5\n",
       "Mainz             5\n",
       "Bielefeld         5\n",
       "Marbella          4\n",
       "Königswinter      4\n",
       "Schöneberg        4\n",
       "Name: location_city, dtype: int64"
      ]
     },
     "execution_count": 287,
     "metadata": {},
     "output_type": "execute_result"
    }
   ],
   "source": [
    "#top cities by number of tweets\n",
    "tweet_text['location_city'].value_counts()[0:30]"
   ]
  },
  {
   "cell_type": "code",
   "execution_count": 288,
   "metadata": {},
   "outputs": [
    {
     "data": {
      "text/plain": [
       "<matplotlib.axes._subplots.AxesSubplot at 0x7f9e93ed4fd0>"
      ]
     },
     "execution_count": 288,
     "metadata": {},
     "output_type": "execute_result"
    },
    {
     "data": {
      "image/png": "[encoded data removed]",
      "text/plain": [
       "<Figure size 432x288 with 1 Axes>"
      ]
     },
     "metadata": {
      "needs_background": "light"
     },
     "output_type": "display_data"
    }
   ],
   "source": [
    "tweet_text['location_city'].value_counts()[0:30].plot(kind='bar')"
   ]
  },
  {
   "cell_type": "markdown",
   "metadata": {},
   "source": [
    "### Top users by number of tweets"
   ]
  },
  {
   "cell_type": "code",
   "execution_count": 445,
   "metadata": {},
   "outputs": [
    {
     "data": {
      "text/plain": [
       "Nightmare_Keks     91\n",
       "LarsKlingenberg    72\n",
       "LeaksQuer          72\n",
       "CITYGUIDEMUNICH    60\n",
       "honeysnakefox      54\n",
       "                   ..\n",
       "Romy56174134        1\n",
       "TAG24               1\n",
       "ProtestCorona       1\n",
       "Pollos_Hermario     1\n",
       "sonntagticker       1\n",
       "Name: user, Length: 1462, dtype: int64"
      ]
     },
     "execution_count": 445,
     "metadata": {},
     "output_type": "execute_result"
    }
   ],
   "source": [
    "tweet_text['user'].value_counts() "
   ]
  },
  {
   "cell_type": "markdown",
   "metadata": {},
   "source": [
    " * from checking the top 3 account, they all seem to be anti-querdenken accounts"
   ]
  },
  {
   "cell_type": "code",
   "execution_count": 447,
   "metadata": {},
   "outputs": [
    {
     "data": {
      "text/plain": [
       "<matplotlib.axes._subplots.AxesSubplot at 0x7f9ea3228490>"
      ]
     },
     "execution_count": 447,
     "metadata": {},
     "output_type": "execute_result"
    },
    {
     "data": {
      "image/png": "[encoded data removed]",
      "text/plain": [
       "<Figure size 432x288 with 1 Axes>"
      ]
     },
     "metadata": {
      "needs_background": "light"
     },
     "output_type": "display_data"
    }
   ],
   "source": [
    "tweet_text['user'].value_counts()[0:30].plot(kind='bar')"
   ]
  },
  {
   "cell_type": "markdown",
   "metadata": {},
   "source": [
    "### Top tweets by number of likes"
   ]
  },
  {
   "cell_type": "code",
   "execution_count": 387,
   "metadata": {},
   "outputs": [
    {
     "data": {
      "text/html": [
       "<div>\n",
       "<style scoped>\n",
       "    .dataframe tbody tr th:only-of-type {\n",
       "        vertical-align: middle;\n",
       "    }\n",
       "\n",
       "    .dataframe tbody tr th {\n",
       "        vertical-align: top;\n",
       "    }\n",
       "\n",
       "    .dataframe thead th {\n",
       "        text-align: right;\n",
       "    }\n",
       "</style>\n",
       "<table border=\"1\" class=\"dataframe\">\n",
       "  <thead>\n",
       "    <tr style=\"text-align: right;\">\n",
       "      <th></th>\n",
       "      <th>text</th>\n",
       "      <th>favorite_count</th>\n",
       "    </tr>\n",
       "  </thead>\n",
       "  <tbody>\n",
       "    <tr>\n",
       "      <td>1833</td>\n",
       "      <td>Bei #H2111 verglich eine 22-jährige Rednerin i...</td>\n",
       "      <td>4646</td>\n",
       "    </tr>\n",
       "    <tr>\n",
       "      <td>1458</td>\n",
       "      <td>Als eine #Querdenkerin in #Hannover den #Holoc...</td>\n",
       "      <td>4333</td>\n",
       "    </tr>\n",
       "    <tr>\n",
       "      <td>3011</td>\n",
       "      <td>Mal etwas Lustiges zwischendurch aus der \"BERL...</td>\n",
       "      <td>2335</td>\n",
       "    </tr>\n",
       "    <tr>\n",
       "      <td>2345</td>\n",
       "      <td>Angeblich sollen \"#Sanitäter\" am 18.11. bei #Q...</td>\n",
       "      <td>1180</td>\n",
       "    </tr>\n",
       "    <tr>\n",
       "      <td>750</td>\n",
       "      <td>» Das ist ein widerliches Schauspiel. So wie d...</td>\n",
       "      <td>1020</td>\n",
       "    </tr>\n",
       "    <tr>\n",
       "      <td>...</td>\n",
       "      <td>...</td>\n",
       "      <td>...</td>\n",
       "    </tr>\n",
       "    <tr>\n",
       "      <td>2579</td>\n",
       "      <td>Und jetzt bitte nochmal die empörte, harmlose ...</td>\n",
       "      <td>0</td>\n",
       "    </tr>\n",
       "    <tr>\n",
       "      <td>628</td>\n",
       "      <td>Ihr habt Euch #Datenschutzgesetze aufdrücken l...</td>\n",
       "      <td>0</td>\n",
       "    </tr>\n",
       "    <tr>\n",
       "      <td>626</td>\n",
       "      <td>Äußerst treffend diese absurden Demonstratione...</td>\n",
       "      <td>0</td>\n",
       "    </tr>\n",
       "    <tr>\n",
       "      <td>621</td>\n",
       "      <td>Impro Satire am Dienstag Morgen #ElonMusk vs #...</td>\n",
       "      <td>0</td>\n",
       "    </tr>\n",
       "    <tr>\n",
       "      <td>0</td>\n",
       "      <td>Hallo #Querdenken.\\nZwei Tatsachen:\\nDeutschla...</td>\n",
       "      <td>0</td>\n",
       "    </tr>\n",
       "  </tbody>\n",
       "</table>\n",
       "<p>3204 rows × 2 columns</p>\n",
       "</div>"
      ],
      "text/plain": [
       "                                                   text  favorite_count\n",
       "1833  Bei #H2111 verglich eine 22-jährige Rednerin i...            4646\n",
       "1458  Als eine #Querdenkerin in #Hannover den #Holoc...            4333\n",
       "3011  Mal etwas Lustiges zwischendurch aus der \"BERL...            2335\n",
       "2345  Angeblich sollen \"#Sanitäter\" am 18.11. bei #Q...            1180\n",
       "750   » Das ist ein widerliches Schauspiel. So wie d...            1020\n",
       "...                                                 ...             ...\n",
       "2579  Und jetzt bitte nochmal die empörte, harmlose ...               0\n",
       "628   Ihr habt Euch #Datenschutzgesetze aufdrücken l...               0\n",
       "626   Äußerst treffend diese absurden Demonstratione...               0\n",
       "621   Impro Satire am Dienstag Morgen #ElonMusk vs #...               0\n",
       "0     Hallo #Querdenken.\\nZwei Tatsachen:\\nDeutschla...               0\n",
       "\n",
       "[3204 rows x 2 columns]"
      ]
     },
     "execution_count": 387,
     "metadata": {},
     "output_type": "execute_result"
    }
   ],
   "source": [
    "tweet_text.sort_values(by=['favorite_count'], ascending=False)[['text','favorite_count']]"
   ]
  },
  {
   "cell_type": "markdown",
   "metadata": {},
   "source": [
    "## Sentiment Analysis"
   ]
  },
  {
   "cell_type": "code",
   "execution_count": 299,
   "metadata": {},
   "outputs": [],
   "source": [
    "from vaderSentiment.vaderSentiment import SentimentIntensityAnalyzer\n",
    "from sklearn.feature_extraction import DictVectorizer"
   ]
  },
  {
   "cell_type": "markdown",
   "metadata": {},
   "source": [
    "### VaderSentiment metrics explained:\n",
    "https://github.com/cjhutto/vaderSentiment \n",
    "\n",
    "https://github.com/noahberhe/COVID-19/blob/master/COVID-19%20Winners%20and%20Losers.ipynb\n",
    "\n",
    "Pos: Proportion of the text that falls into the positive category: ie. no.pos words / total no.words\n",
    "\n",
    "Neu: Proportion of the text that falls into the neutral category: ie. no.neu words / total no.words\n",
    "\n",
    "Neg: Proportion of the text that falls into the negative category: ie. no.neg words / total no.words\n",
    "... so these 3 metrics should up to 1 for a given text\n",
    "\n",
    "Compound: Summing the valence scores of each word in the text, and normalized to between -1 (neg) and 1 (pos).\n",
    "This gives us a polarity measure for that text.\n",
    "It's normalized so can be used to compare different texts\n",
    "\n",
    "Typical threshold values (used in the literature cited on this page) are:\n",
    "\n",
    "* positive sentiment: compound score >= 0.05\n",
    "\n",
    "* neutral sentiment: (compound score > -0.05) and (compound score < 0.05)\n",
    "\n",
    "* negative sentiment: compound score <= -0.05\n"
   ]
  },
  {
   "cell_type": "code",
   "execution_count": 484,
   "metadata": {},
   "outputs": [],
   "source": [
    "#Sentiment Analysis\n",
    "def vader_scorer(df):\n",
    "    '''Compute vaderSentiment scores for each tweet\n",
    "    Args: Dataframe containing a 'text' column\n",
    "    Returns: Dataframe of vader scores\n",
    "    '''\n",
    "    analyzer = SentimentIntensityAnalyzer()\n",
    "    vader_scores = df.loc[:,'text'].map(analyzer.polarity_scores)\n",
    "\n",
    "    dvec = DictVectorizer()\n",
    "    vader_scores = dvec.fit_transform(vader_scores)\n",
    "    #print(vader_scores)\n",
    "    \n",
    "    vader_scores = pd.DataFrame(vader_scores.toarray(),columns=dvec.feature_names_)\n",
    "    return vader_scores"
   ]
  },
  {
   "cell_type": "markdown",
   "metadata": {},
   "source": [
    "### Examples"
   ]
  },
  {
   "cell_type": "code",
   "execution_count": 301,
   "metadata": {},
   "outputs": [
    {
     "name": "stdout",
     "output_type": "stream",
     "text": [
      "Any questions, you # CovIdioten⁉ The death toll is currently as high as if a plane crashed every day. 😢 # solidarity instead of egoism # socialdistancing #BeSafe {'neg': 0.183, 'neu': 0.759, 'pos': 0.058, 'compound': -0.7003}\n",
      "Any questions, you # CovIdioten⁉ The death toll is currently as high as if a plane crashed every day. # solidarity instead of egoism # socialdistancing #BeSafe {'neg': 0.114, 'neu': 0.821, 'pos': 0.065, 'compound': -0.4019}\n",
      "questions covidioten⁉ the death toll currently high plane crashed every day 😢 solidarity instead egoism socialdistancing besafe {'neg': 0.257, 'neu': 0.662, 'pos': 0.081, 'compound': -0.7003}\n",
      "Noch Fragen, ihr #CovIdioten⁉ Die Todeszahlen sind aktuell so hoch, als würde jeden Tag ein Flugzeug abstürzen. 😢 #solidaritätstattegoismus #socialdistancing #BeSafe {'neg': 0.233, 'neu': 0.767, 'pos': 0.0, 'compound': -0.7906}\n",
      "Noch Fragen, ihr #CovIdioten⁉ Die Todeszahlen sind aktuell so hoch, als würde jeden Tag ein Flugzeug abstürzen. #solidaritätstattegoismus #socialdistancing #BeSafe {'neg': 0.151, 'neu': 0.849, 'pos': 0.0, 'compound': -0.5994}\n"
     ]
    }
   ],
   "source": [
    "#example\n",
    "sentences = [\"Any questions, you # CovIdioten⁉ The death toll is currently as high as if a plane crashed every day. 😢 # solidarity instead of egoism # socialdistancing #BeSafe\",  # translation en\n",
    "             \"Any questions, you # CovIdioten⁉ The death toll is currently as high as if a plane crashed every day. # solidarity instead of egoism # socialdistancing #BeSafe\",  # translation en without emoji\n",
    "             \"questions covidioten⁉ the death toll currently high plane crashed every day 😢 solidarity instead egoism socialdistancing besafe\",  # preprocessed english text\n",
    "             \"Noch Fragen, ihr #CovIdioten⁉ Die Todeszahlen sind aktuell so hoch, als würde jeden Tag ein Flugzeug abstürzen. 😢 #solidaritätstattegoismus #socialdistancing #BeSafe\", # text in german\n",
    "             \"Noch Fragen, ihr #CovIdioten⁉ Die Todeszahlen sind aktuell so hoch, als würde jeden Tag ein Flugzeug abstürzen. #solidaritätstattegoismus #socialdistancing #BeSafe\", # text in german without emoji\n",
    "            ]\n",
    "\n",
    "analyzer = SentimentIntensityAnalyzer()\n",
    "for sentence in sentences:\n",
    "    vs = analyzer.polarity_scores(sentence)\n",
    "    print(\"{:-<65} {}\".format(sentence, str(vs)))\n"
   ]
  },
  {
   "cell_type": "code",
   "execution_count": 298,
   "metadata": {},
   "outputs": [],
   "source": [
    "#tweet_text.to_csv ('/Users/darimapivovarova/Downloads/tweets_5000_cleaned.csv', index = False, header=True)"
   ]
  },
  {
   "cell_type": "code",
   "execution_count": 302,
   "metadata": {},
   "outputs": [
    {
     "name": "stdout",
     "output_type": "stream",
     "text": [
      "If God wanted us to wear masks, we would have been born with them. #Covidiots #Corona {'neg': 0.0, 'neu': 0.877, 'pos': 0.123, 'compound': 0.2732}\n",
      "god wanted us wear masks would born covidiots corona------------- {'neg': 0.0, 'neu': 0.792, 'pos': 0.208, 'compound': 0.2732}\n",
      "Hätte Gott gewollt, dass wir Masken tragen, wären wir damit geboren worden. #Covidioten #Corona {'neg': 0.0, 'neu': 1.0, 'pos': 0.0, 'compound': 0.0}\n"
     ]
    }
   ],
   "source": [
    "#example with a sarcastic tweet\n",
    "sentences = [\"If God wanted us to wear masks, we would have been born with them. #Covidiots #Corona\", # en\n",
    "             \"god wanted us wear masks would born covidiots corona\",  # pre processes en\n",
    "             \"Hätte Gott gewollt, dass wir Masken tragen, wären wir damit geboren worden. #Covidioten #Corona\", # german\n",
    "            ]\n",
    "\n",
    "analyzer = SentimentIntensityAnalyzer()\n",
    "for sentence in sentences:\n",
    "    vs = analyzer.polarity_scores(sentence)\n",
    "    print(\"{:-<65} {}\".format(sentence, str(vs)))\n",
    "    \n",
    "    "
   ]
  },
  {
   "cell_type": "code",
   "execution_count": 485,
   "metadata": {},
   "outputs": [],
   "source": [
    "vader_scores = vader_scorer(tweet_text)\n",
    "tweet_text = pd.concat([tweet_text,vader_scores], axis=1)\n",
    "tweet_text = tweet_text.drop_duplicates(subset='id'#, ignore_index=True\n",
    "                                       )\n",
    "\n"
   ]
  },
  {
   "cell_type": "code",
   "execution_count": 483,
   "metadata": {},
   "outputs": [],
   "source": [
    "#del tweet_text['neg']"
   ]
  },
  {
   "cell_type": "code",
   "execution_count": 486,
   "metadata": {},
   "outputs": [
    {
     "data": {
      "text/html": [
       "<div>\n",
       "<style scoped>\n",
       "    .dataframe tbody tr th:only-of-type {\n",
       "        vertical-align: middle;\n",
       "    }\n",
       "\n",
       "    .dataframe tbody tr th {\n",
       "        vertical-align: top;\n",
       "    }\n",
       "\n",
       "    .dataframe thead th {\n",
       "        text-align: right;\n",
       "    }\n",
       "</style>\n",
       "<table border=\"1\" class=\"dataframe\">\n",
       "  <thead>\n",
       "    <tr style=\"text-align: right;\">\n",
       "      <th></th>\n",
       "      <th>id</th>\n",
       "      <th>text</th>\n",
       "      <th>created_at</th>\n",
       "      <th>user</th>\n",
       "      <th>location</th>\n",
       "      <th>geo</th>\n",
       "      <th>coordinates</th>\n",
       "      <th>in_reply_to_status_id</th>\n",
       "      <th>retweet_count</th>\n",
       "      <th>favorite_count</th>\n",
       "      <th>...</th>\n",
       "      <th>text_cleaned</th>\n",
       "      <th>text_cleaned_without_stop_words</th>\n",
       "      <th>location_city</th>\n",
       "      <th>sentiment_class</th>\n",
       "      <th>text_cleaned_full</th>\n",
       "      <th>text_cleaned_full_without_stop_words</th>\n",
       "      <th>compound</th>\n",
       "      <th>neg</th>\n",
       "      <th>neu</th>\n",
       "      <th>pos</th>\n",
       "    </tr>\n",
       "  </thead>\n",
       "  <tbody>\n",
       "    <tr>\n",
       "      <td>0</td>\n",
       "      <td>1332079879794417672</td>\n",
       "      <td>Hallo #Querdenken.\\nZwei Tatsachen:\\nDeutschla...</td>\n",
       "      <td>2020-11-26 21:52:46</td>\n",
       "      <td>felis_rex</td>\n",
       "      <td>Berlin</td>\n",
       "      <td>NaN</td>\n",
       "      <td>NaN</td>\n",
       "      <td>NaN</td>\n",
       "      <td>0</td>\n",
       "      <td>0</td>\n",
       "      <td>...</td>\n",
       "      <td>hallo #querdenken zwei tatsachen deutschland i...</td>\n",
       "      <td>hallo #querdenken zwei tatsachen deutschland d...</td>\n",
       "      <td>Berlin</td>\n",
       "      <td>1</td>\n",
       "      <td>hallo querdenken zwei tatsachen deutschland is...</td>\n",
       "      <td>hallo querdenken zwei tatsachen deutschland di...</td>\n",
       "      <td>-0.8439</td>\n",
       "      <td>0.197</td>\n",
       "      <td>0.803</td>\n",
       "      <td>0.0</td>\n",
       "    </tr>\n",
       "    <tr>\n",
       "      <td>1</td>\n",
       "      <td>1332079613015633920</td>\n",
       "      <td>Alice im Lügenland darf heute in den @tagesthe...</td>\n",
       "      <td>2020-11-26 21:51:43</td>\n",
       "      <td>BirgitKieschni1</td>\n",
       "      <td>Bautzen, Sachsen</td>\n",
       "      <td>NaN</td>\n",
       "      <td>NaN</td>\n",
       "      <td>NaN</td>\n",
       "      <td>0</td>\n",
       "      <td>6</td>\n",
       "      <td>...</td>\n",
       "      <td>alice im lügenland darf heute in den  ihre unw...</td>\n",
       "      <td>alice lügenland darf heute unwahrheiten verbre...</td>\n",
       "      <td>Bautzen</td>\n",
       "      <td>1</td>\n",
       "      <td>alice im lügenland darf heute in den  ihre unw...</td>\n",
       "      <td>alice lügenland darf heute unwahrheiten verbre...</td>\n",
       "      <td>-0.6360</td>\n",
       "      <td>0.107</td>\n",
       "      <td>0.893</td>\n",
       "      <td>0.0</td>\n",
       "    </tr>\n",
       "    <tr>\n",
       "      <td>2</td>\n",
       "      <td>1332075645166374917</td>\n",
       "      <td>Parkplätze gibt's, jetzt scheitert es halt am ...</td>\n",
       "      <td>2020-11-26 21:35:57</td>\n",
       "      <td>demoticker161</td>\n",
       "      <td>Berlin</td>\n",
       "      <td>NaN</td>\n",
       "      <td>NaN</td>\n",
       "      <td>NaN</td>\n",
       "      <td>0</td>\n",
       "      <td>0</td>\n",
       "      <td>...</td>\n",
       "      <td>parkplätze gibts jetzt scheitert es halt am we...</td>\n",
       "      <td>parkplätze gibts scheitert halt wetter #querde...</td>\n",
       "      <td>Berlin</td>\n",
       "      <td>3</td>\n",
       "      <td>parkplätze gibts jetzt scheitert es halt am we...</td>\n",
       "      <td>parkplätze gibts scheitert halt wetter querden...</td>\n",
       "      <td>0.0000</td>\n",
       "      <td>0.000</td>\n",
       "      <td>1.000</td>\n",
       "      <td>0.0</td>\n",
       "    </tr>\n",
       "    <tr>\n",
       "      <td>3</td>\n",
       "      <td>1332071626050048001</td>\n",
       "      <td>aaachso. #AttilaHildmann #Querdenken #Querdenk...</td>\n",
       "      <td>2020-11-26 21:19:59</td>\n",
       "      <td>2sofiaxy</td>\n",
       "      <td>NaN</td>\n",
       "      <td>NaN</td>\n",
       "      <td>NaN</td>\n",
       "      <td>NaN</td>\n",
       "      <td>0</td>\n",
       "      <td>1</td>\n",
       "      <td>...</td>\n",
       "      <td>aaachso #attilahildmann #querdenken #querdenke...</td>\n",
       "      <td>aaachso #attilahildmann #querdenken #querdenke...</td>\n",
       "      <td>NaN</td>\n",
       "      <td>3</td>\n",
       "      <td>aaachso attilahildmann querdenken querdenker i...</td>\n",
       "      <td>aaachso attilahildmann querdenken querdenker i...</td>\n",
       "      <td>0.0000</td>\n",
       "      <td>0.000</td>\n",
       "      <td>1.000</td>\n",
       "      <td>0.0</td>\n",
       "    </tr>\n",
       "    <tr>\n",
       "      <td>4</td>\n",
       "      <td>1332071317454118914</td>\n",
       "      <td>Karel kritisiert, dass immer wieder Beiträge v...</td>\n",
       "      <td>2020-11-26 21:18:45</td>\n",
       "      <td>LeaksQuer</td>\n",
       "      <td>NaN</td>\n",
       "      <td>NaN</td>\n",
       "      <td>NaN</td>\n",
       "      <td>NaN</td>\n",
       "      <td>0</td>\n",
       "      <td>2</td>\n",
       "      <td>...</td>\n",
       "      <td>karel kritisiert dass immer wieder beiträge vo...</td>\n",
       "      <td>karel kritisiert immer beiträge neonazis #quer...</td>\n",
       "      <td>NaN</td>\n",
       "      <td>1</td>\n",
       "      <td>karel kritisiert dass immer wieder beiträge vo...</td>\n",
       "      <td>karel kritisiert immer beiträge neonazis querd...</td>\n",
       "      <td>-0.5994</td>\n",
       "      <td>0.196</td>\n",
       "      <td>0.804</td>\n",
       "      <td>0.0</td>\n",
       "    </tr>\n",
       "  </tbody>\n",
       "</table>\n",
       "<p>5 rows × 21 columns</p>\n",
       "</div>"
      ],
      "text/plain": [
       "                    id                                               text  \\\n",
       "0  1332079879794417672  Hallo #Querdenken.\\nZwei Tatsachen:\\nDeutschla...   \n",
       "1  1332079613015633920  Alice im Lügenland darf heute in den @tagesthe...   \n",
       "2  1332075645166374917  Parkplätze gibt's, jetzt scheitert es halt am ...   \n",
       "3  1332071626050048001  aaachso. #AttilaHildmann #Querdenken #Querdenk...   \n",
       "4  1332071317454118914  Karel kritisiert, dass immer wieder Beiträge v...   \n",
       "\n",
       "            created_at             user          location  geo coordinates  \\\n",
       "0  2020-11-26 21:52:46        felis_rex            Berlin  NaN         NaN   \n",
       "1  2020-11-26 21:51:43  BirgitKieschni1  Bautzen, Sachsen  NaN         NaN   \n",
       "2  2020-11-26 21:35:57    demoticker161            Berlin  NaN         NaN   \n",
       "3  2020-11-26 21:19:59         2sofiaxy               NaN  NaN         NaN   \n",
       "4  2020-11-26 21:18:45        LeaksQuer               NaN  NaN         NaN   \n",
       "\n",
       "   in_reply_to_status_id  retweet_count  favorite_count  ...  \\\n",
       "0                    NaN              0               0  ...   \n",
       "1                    NaN              0               6  ...   \n",
       "2                    NaN              0               0  ...   \n",
       "3                    NaN              0               1  ...   \n",
       "4                    NaN              0               2  ...   \n",
       "\n",
       "                                        text_cleaned  \\\n",
       "0  hallo #querdenken zwei tatsachen deutschland i...   \n",
       "1  alice im lügenland darf heute in den  ihre unw...   \n",
       "2  parkplätze gibts jetzt scheitert es halt am we...   \n",
       "3  aaachso #attilahildmann #querdenken #querdenke...   \n",
       "4  karel kritisiert dass immer wieder beiträge vo...   \n",
       "\n",
       "                     text_cleaned_without_stop_words location_city  \\\n",
       "0  hallo #querdenken zwei tatsachen deutschland d...        Berlin   \n",
       "1  alice lügenland darf heute unwahrheiten verbre...       Bautzen   \n",
       "2  parkplätze gibts scheitert halt wetter #querde...        Berlin   \n",
       "3  aaachso #attilahildmann #querdenken #querdenke...           NaN   \n",
       "4  karel kritisiert immer beiträge neonazis #quer...           NaN   \n",
       "\n",
       "  sentiment_class                                  text_cleaned_full  \\\n",
       "0               1  hallo querdenken zwei tatsachen deutschland is...   \n",
       "1               1  alice im lügenland darf heute in den  ihre unw...   \n",
       "2               3  parkplätze gibts jetzt scheitert es halt am we...   \n",
       "3               3  aaachso attilahildmann querdenken querdenker i...   \n",
       "4               1  karel kritisiert dass immer wieder beiträge vo...   \n",
       "\n",
       "                text_cleaned_full_without_stop_words compound    neg    neu  \\\n",
       "0  hallo querdenken zwei tatsachen deutschland di...  -0.8439  0.197  0.803   \n",
       "1  alice lügenland darf heute unwahrheiten verbre...  -0.6360  0.107  0.893   \n",
       "2  parkplätze gibts scheitert halt wetter querden...   0.0000  0.000  1.000   \n",
       "3  aaachso attilahildmann querdenken querdenker i...   0.0000  0.000  1.000   \n",
       "4  karel kritisiert immer beiträge neonazis querd...  -0.5994  0.196  0.804   \n",
       "\n",
       "   pos  \n",
       "0  0.0  \n",
       "1  0.0  \n",
       "2  0.0  \n",
       "3  0.0  \n",
       "4  0.0  \n",
       "\n",
       "[5 rows x 21 columns]"
      ]
     },
     "execution_count": 486,
     "metadata": {},
     "output_type": "execute_result"
    }
   ],
   "source": [
    "tweet_text.head()"
   ]
  },
  {
   "cell_type": "code",
   "execution_count": 487,
   "metadata": {},
   "outputs": [
    {
     "data": {
      "text/plain": [
       "0       1\n",
       "1       1\n",
       "2       3\n",
       "3       3\n",
       "4       1\n",
       "       ..\n",
       "3199    1\n",
       "3200    3\n",
       "3201    1\n",
       "3202    1\n",
       "3203    1\n",
       "Name: sentiment_class, Length: 3204, dtype: int64"
      ]
     },
     "execution_count": 487,
     "metadata": {},
     "output_type": "execute_result"
    }
   ],
   "source": [
    "#Focus on 'compound' scores\n",
    "# Create a new column called 'sentiment_class'\n",
    "sentimentclass_list = []\n",
    "\n",
    "for i in range(0, len(tweet_text)):\n",
    "    \n",
    "    # current 'compound' score:\n",
    "    curr_compound = tweet_text.iloc[i,:]['compound']\n",
    "    \n",
    "    if (curr_compound <= 1.0 and curr_compound >= 0.55):\n",
    "        sentimentclass_list.append(5)\n",
    "    elif (curr_compound < 0.55 and curr_compound >= 0.10):\n",
    "        sentimentclass_list.append(4)\n",
    "    elif (curr_compound < 0.10 and curr_compound > -0.10):\n",
    "        sentimentclass_list.append(3)\n",
    "    elif (curr_compound <= -0.10 and curr_compound > -0.55):\n",
    "        sentimentclass_list.append(2)\n",
    "    elif (curr_compound <= -0.55 and curr_compound >= -1.00):\n",
    "        sentimentclass_list.append(1)\n",
    "\n",
    "# Add the new column 'sentiment_class' to the dataframe\n",
    "tweet_text['sentiment_class'] = sentimentclass_list\n",
    "\n",
    "# Check out the new column\n",
    "tweet_text['sentiment_class']"
   ]
  },
  {
   "cell_type": "code",
   "execution_count": 488,
   "metadata": {},
   "outputs": [
    {
     "data": {
      "text/plain": [
       "3    1485\n",
       "1    1399\n",
       "2     152\n",
       "4     108\n",
       "5      60\n",
       "Name: sentiment_class, dtype: int64"
      ]
     },
     "execution_count": 488,
     "metadata": {},
     "output_type": "execute_result"
    }
   ],
   "source": [
    "tweet_text['sentiment_class'].value_counts() "
   ]
  },
  {
   "cell_type": "code",
   "execution_count": 331,
   "metadata": {},
   "outputs": [
    {
     "data": {
      "text/plain": [
       "<matplotlib.axes._subplots.AxesSubplot at 0x7f9e94a0f2d0>"
      ]
     },
     "execution_count": 331,
     "metadata": {},
     "output_type": "execute_result"
    },
    {
     "data": {
      "image/png": "[encoded data removed]",
      "text/plain": [
       "<Figure size 432x288 with 1 Axes>"
      ]
     },
     "metadata": {
      "needs_background": "light"
     },
     "output_type": "display_data"
    }
   ],
   "source": [
    "tweet_text['sentiment_class'].value_counts().sort_index().plot(kind='bar')"
   ]
  },
  {
   "cell_type": "code",
   "execution_count": 345,
   "metadata": {},
   "outputs": [
    {
     "data": {
      "text/plain": [
       "[Text(0, 0, '-1.0'),\n",
       " Text(1, 0, '-0.8'),\n",
       " Text(2, 0, '-0.6'),\n",
       " Text(3, 0, '-0.3999999999999999'),\n",
       " Text(4, 0, '-0.19999999999999996'),\n",
       " Text(5, 0, '0.0'),\n",
       " Text(6, 0, '0.20000000000000018'),\n",
       " Text(7, 0, '0.40000000000000013'),\n",
       " Text(8, 0, '0.6000000000000001'),\n",
       " Text(9, 0, '0.8'),\n",
       " Text(10, 0, '1.0')]"
      ]
     },
     "execution_count": 345,
     "metadata": {},
     "output_type": "execute_result"
    },
    {
     "data": {
      "image/png": "[encoded data removed]",
      "text/plain": [
       "<Figure size 432x288 with 1 Axes>"
      ]
     },
     "metadata": {
      "needs_background": "light"
     },
     "output_type": "display_data"
    }
   ],
   "source": [
    "s=tweet_text['compound'].value_counts().sort_index()\n",
    "ax=s.plot(kind='bar')\n",
    "ax.figure.tight_layout()\n",
    "new_ticks = np.linspace(-1, 1, 11)  \n",
    "# positions of each tick, relative to the indices of the x-values\n",
    "ax.set_xticks(np.interp(new_ticks, s.index, np.arange(s.size)))\n",
    "\n",
    "# labels\n",
    "ax.set_xticklabels(new_ticks)"
   ]
  },
  {
   "cell_type": "markdown",
   "metadata": {},
   "source": [
    "# Words by occurance"
   ]
  },
  {
   "cell_type": "code",
   "execution_count": 525,
   "metadata": {},
   "outputs": [
    {
     "data": {
      "text/plain": [
       "['hallo',\n",
       " 'querdenken',\n",
       " 'zwei',\n",
       " 'tatsachen',\n",
       " 'deutschland',\n",
       " 'dichter',\n",
       " 'bewohnt',\n",
       " 'usa',\n",
       " 'usa',\n",
       " 'viertelmillion',\n",
       " 'menschen',\n",
       " 'verloren',\n",
       " 'millionen',\n",
       " 'erleiden',\n",
       " 'behinderungen',\n",
       " 'ganz',\n",
       " 'aussehen',\n",
       " 'leute',\n",
       " 'hören']"
      ]
     },
     "execution_count": 525,
     "metadata": {},
     "output_type": "execute_result"
    }
   ],
   "source": [
    "# fllowing tutorial: https://www.earthdatascience.org/courses/use-data-open-source-python/intro-to-apis/calculate-tweet-word-bigrams/\n",
    "# Split the words from one tweet into unique elements\n",
    "tweet_text['text_cleaned_full_without_stop_words'][0].split()"
   ]
  },
  {
   "cell_type": "code",
   "execution_count": 490,
   "metadata": {},
   "outputs": [
    {
     "data": {
      "text/plain": [
       "[['hallo',\n",
       "  'querdenken',\n",
       "  'zwei',\n",
       "  'tatsachen',\n",
       "  'deutschland',\n",
       "  'dichter',\n",
       "  'bewohnt',\n",
       "  'usa',\n",
       "  'usa',\n",
       "  'viertelmillion',\n",
       "  'menschen',\n",
       "  'verloren',\n",
       "  'millionen',\n",
       "  'erleiden',\n",
       "  'behinderungen',\n",
       "  'ganz',\n",
       "  'aussehen',\n",
       "  'leute',\n",
       "  'hören'],\n",
       " ['alice',\n",
       "  'lügenland',\n",
       "  'darf',\n",
       "  'heute',\n",
       "  'unwahrheiten',\n",
       "  'verbreiten',\n",
       "  'tja',\n",
       "  'beispiel',\n",
       "  'bautzen',\n",
       "  'struktur',\n",
       "  'neuenrechten',\n",
       "  'darlegen',\n",
       "  'afd',\n",
       "  'reichsbürger',\n",
       "  'ib',\n",
       "  'querdenken',\n",
       "  'bewegung',\n",
       "  'kommst']]"
      ]
     },
     "execution_count": 490,
     "metadata": {},
     "output_type": "execute_result"
    }
   ],
   "source": [
    "# Create a list of lists containing all words for each tweet\n",
    "words_in_tweet = [tweet.split() for tweet in tweet_text['text_cleaned_full_without_stop_words']]\n",
    "words_in_tweet[:2]"
   ]
  },
  {
   "cell_type": "code",
   "execution_count": 491,
   "metadata": {},
   "outputs": [],
   "source": [
    "import itertools\n",
    "import collections"
   ]
  },
  {
   "cell_type": "code",
   "execution_count": 492,
   "metadata": {},
   "outputs": [],
   "source": [
    "# List of all words across tweets , flattening the list of lists\n",
    "all_words = list(itertools.chain(*words_in_tweet))"
   ]
  },
  {
   "cell_type": "code",
   "execution_count": 493,
   "metadata": {},
   "outputs": [
    {
     "data": {
      "text/plain": [
       "[('querdenken', 2944),\n",
       " ('covidioten', 418),\n",
       " ('querdenker', 415),\n",
       " ('corona', 259),\n",
       " ('mal', 256),\n",
       " ('leipzig', 237),\n",
       " ('janaauskassel', 192),\n",
       " ('afd', 180),\n",
       " ('heute', 179),\n",
       " ('mehr', 177),\n",
       " ('polizei', 176),\n",
       " ('demo', 172),\n",
       " ('amp', 170),\n",
       " ('hannover', 169),\n",
       " ('berlin', 154),\n",
       " ('coronaleugner', 152),\n",
       " ('schon', 147),\n",
       " ('immer', 146),\n",
       " ('ja', 139),\n",
       " ('noafd', 138),\n",
       " ('sophiescholl', 131),\n",
       " ('sophie', 128),\n",
       " ('scholl', 127),\n",
       " ('menschen', 118),\n",
       " ('nazis', 117),\n",
       " ('wer', 103),\n",
       " ('geht', 99),\n",
       " ('gibt', 97),\n",
       " ('wurde', 91),\n",
       " ('einfach', 90)]"
      ]
     },
     "execution_count": 493,
     "metadata": {},
     "output_type": "execute_result"
    }
   ],
   "source": [
    "# Create counter\n",
    "counts_no_urls = collections.Counter(all_words)\n",
    "\n",
    "counts_no_urls.most_common(30)"
   ]
  },
  {
   "cell_type": "code",
   "execution_count": 494,
   "metadata": {},
   "outputs": [
    {
     "data": {
      "text/plain": [
       "<matplotlib.axes._subplots.AxesSubplot at 0x7f9e9eec13d0>"
      ]
     },
     "execution_count": 494,
     "metadata": {},
     "output_type": "execute_result"
    },
    {
     "data": {
      "image/png": "[encoded data removed]",
      "text/plain": [
       "<Figure size 432x288 with 1 Axes>"
      ]
     },
     "metadata": {
      "needs_background": "light"
     },
     "output_type": "display_data"
    }
   ],
   "source": [
    "words_by_occurance = pd.DataFrame(counts_no_urls.most_common(30),\n",
    "                             columns=['words', 'count'])\n",
    "\n",
    "words_by_occurance.sort_values(by=['count'], ascending=True).plot(x='words', y='count',kind='barh' )"
   ]
  },
  {
   "cell_type": "markdown",
   "metadata": {},
   "source": [
    "# Explore Co-occurring Words (Bigrams)"
   ]
  },
  {
   "cell_type": "code",
   "execution_count": 389,
   "metadata": {},
   "outputs": [],
   "source": [
    "from nltk import bigrams"
   ]
  },
  {
   "cell_type": "code",
   "execution_count": 495,
   "metadata": {},
   "outputs": [
    {
     "data": {
      "text/plain": [
       "[('hallo', 'querdenken'),\n",
       " ('querdenken', 'zwei'),\n",
       " ('zwei', 'tatsachen'),\n",
       " ('tatsachen', 'deutschland'),\n",
       " ('deutschland', 'dichter'),\n",
       " ('dichter', 'bewohnt'),\n",
       " ('bewohnt', 'usa'),\n",
       " ('usa', 'usa'),\n",
       " ('usa', 'viertelmillion'),\n",
       " ('viertelmillion', 'menschen'),\n",
       " ('menschen', 'verloren'),\n",
       " ('verloren', 'millionen'),\n",
       " ('millionen', 'erleiden'),\n",
       " ('erleiden', 'behinderungen'),\n",
       " ('behinderungen', 'ganz'),\n",
       " ('ganz', 'aussehen'),\n",
       " ('aussehen', 'leute'),\n",
       " ('leute', 'hören')]"
      ]
     },
     "execution_count": 495,
     "metadata": {},
     "output_type": "execute_result"
    }
   ],
   "source": [
    "# Create list of lists containing bigrams in tweets\n",
    "terms_bigram = [list(bigrams(tweet)) for tweet in words_in_tweet]\n",
    "\n",
    "# View bigrams for the first tweet\n",
    "terms_bigram[0]"
   ]
  },
  {
   "cell_type": "code",
   "execution_count": 496,
   "metadata": {},
   "outputs": [
    {
     "data": {
      "text/plain": [
       "'hallo querdenken zwei tatsachen deutschland dichter bewohnt usa usa viertelmillion menschen verloren millionen erleiden behinderungen ganz aussehen leute hören'"
      ]
     },
     "execution_count": 496,
     "metadata": {},
     "output_type": "execute_result"
    }
   ],
   "source": [
    "tweet_text['text_cleaned_full_without_stop_words'][0]"
   ]
  },
  {
   "cell_type": "code",
   "execution_count": 497,
   "metadata": {},
   "outputs": [],
   "source": [
    "#flattening the list of bigrams\n",
    "all_bigrams = list(itertools.chain(*terms_bigram))"
   ]
  },
  {
   "cell_type": "code",
   "execution_count": 498,
   "metadata": {},
   "outputs": [
    {
     "data": {
      "text/plain": [
       "[(('querdenken', 'covidioten'), 155),\n",
       " (('querdenker', 'querdenken'), 132),\n",
       " (('sophie', 'scholl'), 114),\n",
       " (('querdenken', 'querdenker'), 89),\n",
       " (('dummdenken', 'querdenken'), 71),\n",
       " (('covidioten', 'querdenken'), 69),\n",
       " (('querdenken', 'demo'), 49),\n",
       " (('jana', 'kassel'), 40),\n",
       " (('anne', 'frank'), 38),\n",
       " (('querdenken', 'querlenker'), 38),\n",
       " (('querdenken', 'hannover'), 36),\n",
       " (('coronaleugner', 'maskenverweigerer'), 36),\n",
       " (('sekte', 'querdenken'), 34),\n",
       " (('afd', 'querdenken'), 33),\n",
       " (('coronagipfel', 'corona'), 33),\n",
       " (('querlenker', 'leerdenker'), 32),\n",
       " (('leerdenker', 'coronaleugner'), 32),\n",
       " (('corona', 'querdenken'), 31),\n",
       " (('janaauskassel', 'querdenken'), 31),\n",
       " (('querdenken', 'afd'), 30),\n",
       " (('covidioten', 'covidiots'), 30),\n",
       " (('keinplatzfürnazis', 'coronagipfel'), 30),\n",
       " (('noafd', 'fcknzs'), 27),\n",
       " (('covidiots', 'querdenker'), 26),\n",
       " (('hannover', 'querdenken'), 24),\n",
       " (('michael', 'ballweg'), 23),\n",
       " (('querdenken', 'demos'), 23),\n",
       " (('covidioten', 'corona'), 23),\n",
       " (('fcknzs', 'keinplatzfürnazis'), 23),\n",
       " (('querdenken', 'versammlung'), 22)]"
      ]
     },
     "execution_count": 498,
     "metadata": {},
     "output_type": "execute_result"
    }
   ],
   "source": [
    "# Create counter for most common bigrams\n",
    "counts_bigrams = collections.Counter(all_bigrams)\n",
    "\n",
    "counts_bigrams.most_common(30)"
   ]
  },
  {
   "cell_type": "code",
   "execution_count": 499,
   "metadata": {},
   "outputs": [],
   "source": [
    "#to data frame\n",
    "bigrams_by_occurance = pd.DataFrame(counts_bigrams.most_common(30),\n",
    "                             columns=['bigrams', 'count'])"
   ]
  },
  {
   "cell_type": "markdown",
   "metadata": {},
   "source": [
    "## Visualize bigrams"
   ]
  },
  {
   "cell_type": "code",
   "execution_count": 500,
   "metadata": {},
   "outputs": [],
   "source": [
    "import networkx as nx"
   ]
  },
  {
   "cell_type": "code",
   "execution_count": 501,
   "metadata": {},
   "outputs": [],
   "source": [
    "# Create dictionary of bigrams and their counts\n",
    "d = bigrams_by_occurance.set_index('bigrams').T.to_dict('records')"
   ]
  },
  {
   "cell_type": "code",
   "execution_count": 502,
   "metadata": {},
   "outputs": [],
   "source": [
    "# Create network plot \n",
    "G = nx.Graph()\n",
    "\n",
    "# Create connections between nodes\n",
    "for k, v in d[0].items():\n",
    "    G.add_edge(k[0], k[1], weight=(v * 9))\n",
    "\n",
    "#G.add_node(\"china\", weight=100)"
   ]
  },
  {
   "cell_type": "code",
   "execution_count": 503,
   "metadata": {},
   "outputs": [
    {
     "data": {
      "image/png": "[encoded data removed]",
      "text/plain": [
       "<Figure size 864x576 with 1 Axes>"
      ]
     },
     "metadata": {},
     "output_type": "display_data"
    }
   ],
   "source": [
    "fig, ax = plt.subplots(figsize=(12, 8))\n",
    "\n",
    "pos = nx.spring_layout(G, k=2)\n",
    "\n",
    "# Plot networks\n",
    "nx.draw_networkx(G, pos,\n",
    "                 font_size=16,\n",
    "                 width=1,\n",
    "                 edge_color='grey',\n",
    "                 node_color='purple',\n",
    "                 with_labels = False,\n",
    "                 ax=ax)\n",
    "\n",
    "# Create offset labels\n",
    "for key, value in pos.items():\n",
    "    x, y = value[0]+.135, value[1]+.045\n",
    "    ax.text(x, y,\n",
    "            s=key,\n",
    "            bbox=dict(facecolor='red', alpha=0.1),\n",
    "            horizontalalignment='center', fontsize=8)\n",
    "    \n",
    "plt.show()"
   ]
  },
  {
   "cell_type": "markdown",
   "metadata": {},
   "source": [
    "### Bigrams for hashtags"
   ]
  },
  {
   "cell_type": "code",
   "execution_count": 507,
   "metadata": {},
   "outputs": [],
   "source": [
    "# the same for hashtags\n",
    "#tweet_text['text_cleaned'][0]\n",
    "def leave_hashtags(text):\n",
    "    text=re.findall('#\\w+', text)\n",
    "    return text"
   ]
  },
  {
   "cell_type": "code",
   "execution_count": 510,
   "metadata": {},
   "outputs": [],
   "source": [
    "tweet_text['text_hashtags_only']=tweet_text['text_cleaned'].apply(lambda x: leave_hashtags(x)).apply(lambda x: ' '.join(x))"
   ]
  },
  {
   "cell_type": "code",
   "execution_count": 511,
   "metadata": {},
   "outputs": [
    {
     "data": {
      "text/html": [
       "<div>\n",
       "<style scoped>\n",
       "    .dataframe tbody tr th:only-of-type {\n",
       "        vertical-align: middle;\n",
       "    }\n",
       "\n",
       "    .dataframe tbody tr th {\n",
       "        vertical-align: top;\n",
       "    }\n",
       "\n",
       "    .dataframe thead th {\n",
       "        text-align: right;\n",
       "    }\n",
       "</style>\n",
       "<table border=\"1\" class=\"dataframe\">\n",
       "  <thead>\n",
       "    <tr style=\"text-align: right;\">\n",
       "      <th></th>\n",
       "      <th>id</th>\n",
       "      <th>text</th>\n",
       "      <th>created_at</th>\n",
       "      <th>user</th>\n",
       "      <th>location</th>\n",
       "      <th>geo</th>\n",
       "      <th>coordinates</th>\n",
       "      <th>in_reply_to_status_id</th>\n",
       "      <th>retweet_count</th>\n",
       "      <th>favorite_count</th>\n",
       "      <th>...</th>\n",
       "      <th>text_cleaned_without_stop_words</th>\n",
       "      <th>location_city</th>\n",
       "      <th>sentiment_class</th>\n",
       "      <th>text_cleaned_full</th>\n",
       "      <th>text_cleaned_full_without_stop_words</th>\n",
       "      <th>compound</th>\n",
       "      <th>neg</th>\n",
       "      <th>neu</th>\n",
       "      <th>pos</th>\n",
       "      <th>text_hashtags_only</th>\n",
       "    </tr>\n",
       "  </thead>\n",
       "  <tbody>\n",
       "    <tr>\n",
       "      <td>0</td>\n",
       "      <td>1332079879794417672</td>\n",
       "      <td>Hallo #Querdenken.\\nZwei Tatsachen:\\nDeutschla...</td>\n",
       "      <td>2020-11-26 21:52:46</td>\n",
       "      <td>felis_rex</td>\n",
       "      <td>Berlin</td>\n",
       "      <td>NaN</td>\n",
       "      <td>NaN</td>\n",
       "      <td>NaN</td>\n",
       "      <td>0</td>\n",
       "      <td>0</td>\n",
       "      <td>...</td>\n",
       "      <td>hallo #querdenken zwei tatsachen deutschland d...</td>\n",
       "      <td>Berlin</td>\n",
       "      <td>1</td>\n",
       "      <td>hallo querdenken zwei tatsachen deutschland is...</td>\n",
       "      <td>hallo querdenken zwei tatsachen deutschland di...</td>\n",
       "      <td>-0.8439</td>\n",
       "      <td>0.197</td>\n",
       "      <td>0.803</td>\n",
       "      <td>0.0</td>\n",
       "      <td>#querdenken</td>\n",
       "    </tr>\n",
       "    <tr>\n",
       "      <td>1</td>\n",
       "      <td>1332079613015633920</td>\n",
       "      <td>Alice im Lügenland darf heute in den @tagesthe...</td>\n",
       "      <td>2020-11-26 21:51:43</td>\n",
       "      <td>BirgitKieschni1</td>\n",
       "      <td>Bautzen, Sachsen</td>\n",
       "      <td>NaN</td>\n",
       "      <td>NaN</td>\n",
       "      <td>NaN</td>\n",
       "      <td>0</td>\n",
       "      <td>6</td>\n",
       "      <td>...</td>\n",
       "      <td>alice lügenland darf heute unwahrheiten verbre...</td>\n",
       "      <td>Bautzen</td>\n",
       "      <td>1</td>\n",
       "      <td>alice im lügenland darf heute in den  ihre unw...</td>\n",
       "      <td>alice lügenland darf heute unwahrheiten verbre...</td>\n",
       "      <td>-0.6360</td>\n",
       "      <td>0.107</td>\n",
       "      <td>0.893</td>\n",
       "      <td>0.0</td>\n",
       "      <td>#bautzen #neuenrechten #afd #reichsbürger #ib ...</td>\n",
       "    </tr>\n",
       "    <tr>\n",
       "      <td>2</td>\n",
       "      <td>1332075645166374917</td>\n",
       "      <td>Parkplätze gibt's, jetzt scheitert es halt am ...</td>\n",
       "      <td>2020-11-26 21:35:57</td>\n",
       "      <td>demoticker161</td>\n",
       "      <td>Berlin</td>\n",
       "      <td>NaN</td>\n",
       "      <td>NaN</td>\n",
       "      <td>NaN</td>\n",
       "      <td>0</td>\n",
       "      <td>0</td>\n",
       "      <td>...</td>\n",
       "      <td>parkplätze gibts scheitert halt wetter #querde...</td>\n",
       "      <td>Berlin</td>\n",
       "      <td>3</td>\n",
       "      <td>parkplätze gibts jetzt scheitert es halt am we...</td>\n",
       "      <td>parkplätze gibts scheitert halt wetter querden...</td>\n",
       "      <td>0.0000</td>\n",
       "      <td>0.000</td>\n",
       "      <td>1.000</td>\n",
       "      <td>0.0</td>\n",
       "      <td>#querdenken #noquerdenken #leerdenker</td>\n",
       "    </tr>\n",
       "    <tr>\n",
       "      <td>3</td>\n",
       "      <td>1332071626050048001</td>\n",
       "      <td>aaachso. #AttilaHildmann #Querdenken #Querdenk...</td>\n",
       "      <td>2020-11-26 21:19:59</td>\n",
       "      <td>2sofiaxy</td>\n",
       "      <td>NaN</td>\n",
       "      <td>NaN</td>\n",
       "      <td>NaN</td>\n",
       "      <td>NaN</td>\n",
       "      <td>0</td>\n",
       "      <td>1</td>\n",
       "      <td>...</td>\n",
       "      <td>aaachso #attilahildmann #querdenken #querdenke...</td>\n",
       "      <td>NaN</td>\n",
       "      <td>3</td>\n",
       "      <td>aaachso attilahildmann querdenken querdenker i...</td>\n",
       "      <td>aaachso attilahildmann querdenken querdenker i...</td>\n",
       "      <td>0.0000</td>\n",
       "      <td>0.000</td>\n",
       "      <td>1.000</td>\n",
       "      <td>0.0</td>\n",
       "      <td>#attilahildmann #querdenken #querdenker #impfe...</td>\n",
       "    </tr>\n",
       "    <tr>\n",
       "      <td>4</td>\n",
       "      <td>1332071317454118914</td>\n",
       "      <td>Karel kritisiert, dass immer wieder Beiträge v...</td>\n",
       "      <td>2020-11-26 21:18:45</td>\n",
       "      <td>LeaksQuer</td>\n",
       "      <td>NaN</td>\n",
       "      <td>NaN</td>\n",
       "      <td>NaN</td>\n",
       "      <td>NaN</td>\n",
       "      <td>0</td>\n",
       "      <td>2</td>\n",
       "      <td>...</td>\n",
       "      <td>karel kritisiert immer beiträge neonazis #quer...</td>\n",
       "      <td>NaN</td>\n",
       "      <td>1</td>\n",
       "      <td>karel kritisiert dass immer wieder beiträge vo...</td>\n",
       "      <td>karel kritisiert immer beiträge neonazis querd...</td>\n",
       "      <td>-0.5994</td>\n",
       "      <td>0.196</td>\n",
       "      <td>0.804</td>\n",
       "      <td>0.0</td>\n",
       "      <td>#querdenken</td>\n",
       "    </tr>\n",
       "  </tbody>\n",
       "</table>\n",
       "<p>5 rows × 22 columns</p>\n",
       "</div>"
      ],
      "text/plain": [
       "                    id                                               text  \\\n",
       "0  1332079879794417672  Hallo #Querdenken.\\nZwei Tatsachen:\\nDeutschla...   \n",
       "1  1332079613015633920  Alice im Lügenland darf heute in den @tagesthe...   \n",
       "2  1332075645166374917  Parkplätze gibt's, jetzt scheitert es halt am ...   \n",
       "3  1332071626050048001  aaachso. #AttilaHildmann #Querdenken #Querdenk...   \n",
       "4  1332071317454118914  Karel kritisiert, dass immer wieder Beiträge v...   \n",
       "\n",
       "            created_at             user          location  geo coordinates  \\\n",
       "0  2020-11-26 21:52:46        felis_rex            Berlin  NaN         NaN   \n",
       "1  2020-11-26 21:51:43  BirgitKieschni1  Bautzen, Sachsen  NaN         NaN   \n",
       "2  2020-11-26 21:35:57    demoticker161            Berlin  NaN         NaN   \n",
       "3  2020-11-26 21:19:59         2sofiaxy               NaN  NaN         NaN   \n",
       "4  2020-11-26 21:18:45        LeaksQuer               NaN  NaN         NaN   \n",
       "\n",
       "   in_reply_to_status_id  retweet_count  favorite_count  ...  \\\n",
       "0                    NaN              0               0  ...   \n",
       "1                    NaN              0               6  ...   \n",
       "2                    NaN              0               0  ...   \n",
       "3                    NaN              0               1  ...   \n",
       "4                    NaN              0               2  ...   \n",
       "\n",
       "                     text_cleaned_without_stop_words location_city  \\\n",
       "0  hallo #querdenken zwei tatsachen deutschland d...        Berlin   \n",
       "1  alice lügenland darf heute unwahrheiten verbre...       Bautzen   \n",
       "2  parkplätze gibts scheitert halt wetter #querde...        Berlin   \n",
       "3  aaachso #attilahildmann #querdenken #querdenke...           NaN   \n",
       "4  karel kritisiert immer beiträge neonazis #quer...           NaN   \n",
       "\n",
       "  sentiment_class                                  text_cleaned_full  \\\n",
       "0               1  hallo querdenken zwei tatsachen deutschland is...   \n",
       "1               1  alice im lügenland darf heute in den  ihre unw...   \n",
       "2               3  parkplätze gibts jetzt scheitert es halt am we...   \n",
       "3               3  aaachso attilahildmann querdenken querdenker i...   \n",
       "4               1  karel kritisiert dass immer wieder beiträge vo...   \n",
       "\n",
       "                text_cleaned_full_without_stop_words compound    neg    neu  \\\n",
       "0  hallo querdenken zwei tatsachen deutschland di...  -0.8439  0.197  0.803   \n",
       "1  alice lügenland darf heute unwahrheiten verbre...  -0.6360  0.107  0.893   \n",
       "2  parkplätze gibts scheitert halt wetter querden...   0.0000  0.000  1.000   \n",
       "3  aaachso attilahildmann querdenken querdenker i...   0.0000  0.000  1.000   \n",
       "4  karel kritisiert immer beiträge neonazis querd...  -0.5994  0.196  0.804   \n",
       "\n",
       "   pos                                 text_hashtags_only  \n",
       "0  0.0                                        #querdenken  \n",
       "1  0.0  #bautzen #neuenrechten #afd #reichsbürger #ib ...  \n",
       "2  0.0              #querdenken #noquerdenken #leerdenker  \n",
       "3  0.0  #attilahildmann #querdenken #querdenker #impfe...  \n",
       "4  0.0                                        #querdenken  \n",
       "\n",
       "[5 rows x 22 columns]"
      ]
     },
     "execution_count": 511,
     "metadata": {},
     "output_type": "execute_result"
    }
   ],
   "source": [
    "tweet_text.head()"
   ]
  },
  {
   "cell_type": "code",
   "execution_count": 512,
   "metadata": {},
   "outputs": [
    {
     "data": {
      "text/plain": [
       "[['#querdenken'],\n",
       " ['#bautzen', '#neuenrechten', '#afd', '#reichsbürger', '#ib', '#querdenken']]"
      ]
     },
     "execution_count": 512,
     "metadata": {},
     "output_type": "execute_result"
    }
   ],
   "source": [
    "# Create a list of lists containing all words for each tweet\n",
    "hashtags_in_tweet = [tweet.split() for tweet in tweet_text['text_hashtags_only']]\n",
    "hashtags_in_tweet[:2]\n"
   ]
  },
  {
   "cell_type": "code",
   "execution_count": 514,
   "metadata": {},
   "outputs": [
    {
     "data": {
      "text/plain": [
       "[('#bautzen', '#neuenrechten'),\n",
       " ('#neuenrechten', '#afd'),\n",
       " ('#afd', '#reichsbürger'),\n",
       " ('#reichsbürger', '#ib'),\n",
       " ('#ib', '#querdenken')]"
      ]
     },
     "execution_count": 514,
     "metadata": {},
     "output_type": "execute_result"
    }
   ],
   "source": [
    "# Create list of lists containing bigrams in tweets\n",
    "hashtags_bigram = [list(bigrams(tweet)) for tweet in hashtags_in_tweet]\n",
    "\n",
    "# View bigrams for the first tweet\n",
    "hashtags_bigram[1]"
   ]
  },
  {
   "cell_type": "code",
   "execution_count": 515,
   "metadata": {},
   "outputs": [],
   "source": [
    "#flattening the list of hashtag bigrams\n",
    "hashtag_bigrams = list(itertools.chain(*hashtags_bigram))"
   ]
  },
  {
   "cell_type": "code",
   "execution_count": 516,
   "metadata": {},
   "outputs": [
    {
     "data": {
      "text/plain": [
       "[(('#querdenken', '#covidioten'), 170),\n",
       " (('#querdenker', '#querdenken'), 163),\n",
       " (('#querdenken', '#querdenker'), 99),\n",
       " (('#covidioten', '#querdenken'), 79),\n",
       " (('#dummdenken', '#querdenken'), 71),\n",
       " (('#janaauskassel', '#querdenken'), 61),\n",
       " (('#querdenken', '#afd'), 47),\n",
       " (('#querdenken', '#hannover'), 47),\n",
       " (('#corona', '#querdenken'), 46),\n",
       " (('#afd', '#querdenken'), 45),\n",
       " (('#querdenken', '#leipzig'), 38),\n",
       " (('#querdenken', '#querlenker'), 38),\n",
       " (('#coronaleugner', '#maskenverweigerer'), 36),\n",
       " (('#querdenken', '#noafd'), 33),\n",
       " (('#coronagipfel', '#corona'), 33),\n",
       " (('#querlenker', '#leerdenker'), 32),\n",
       " (('#leerdenker', '#coronaleugner'), 32),\n",
       " (('#leipzig', '#querdenken'), 31),\n",
       " (('#querdenken', '#corona'), 30),\n",
       " (('#sophiescholl', '#querdenken'), 30),\n",
       " (('#covidioten', '#covidiots'), 30),\n",
       " (('#keinplatzfürnazis', '#coronagipfel'), 30),\n",
       " (('#berlin', '#querdenken'), 29),\n",
       " (('#hannover', '#querdenken'), 29),\n",
       " (('#noafd', '#fcknzs'), 27),\n",
       " (('#coronaleugner', '#querdenken'), 26),\n",
       " (('#maskenverweigerer', '#demoberlin'), 26),\n",
       " (('#covidiots', '#querdenker'), 26),\n",
       " (('#covidioten', '#corona'), 25),\n",
       " (('#querdenken', '#coronaleugner'), 24)]"
      ]
     },
     "execution_count": 516,
     "metadata": {},
     "output_type": "execute_result"
    }
   ],
   "source": [
    "# Create counter for most common bigrams\n",
    "counts_hashtag_bigrams = collections.Counter(hashtag_bigrams)\n",
    "\n",
    "counts_hashtag_bigrams.most_common(30)"
   ]
  },
  {
   "cell_type": "code",
   "execution_count": 521,
   "metadata": {},
   "outputs": [],
   "source": [
    "#to data frame\n",
    "hashtag_bigrams_by_occurance = pd.DataFrame(counts_hashtag_bigrams.most_common(50),\n",
    "                             columns=['hashtag_bigrams', 'count'])"
   ]
  },
  {
   "cell_type": "markdown",
   "metadata": {},
   "source": [
    "### Visualize hashtags as bigrams"
   ]
  },
  {
   "cell_type": "code",
   "execution_count": 522,
   "metadata": {},
   "outputs": [],
   "source": [
    "# Create dictionary of bigrams and their counts\n",
    "d2 = hashtag_bigrams_by_occurance.set_index('hashtag_bigrams').T.to_dict('records')"
   ]
  },
  {
   "cell_type": "code",
   "execution_count": 523,
   "metadata": {},
   "outputs": [],
   "source": [
    "# Create network plot \n",
    "G = nx.Graph()\n",
    "\n",
    "# Create connections between nodes\n",
    "for k, v in d2[0].items():\n",
    "    G.add_edge(k[0], k[1], weight=(v * 9))\n",
    "\n",
    "#G.add_node(\"china\", weight=100)"
   ]
  },
  {
   "cell_type": "code",
   "execution_count": 524,
   "metadata": {},
   "outputs": [
    {
     "data": {
      "image/png": "[encoded data removed]",
      "text/plain": [
       "<Figure size 864x576 with 1 Axes>"
      ]
     },
     "metadata": {},
     "output_type": "display_data"
    }
   ],
   "source": [
    "fig, ax = plt.subplots(figsize=(12, 8))\n",
    "\n",
    "pos = nx.spring_layout(G, k=2)\n",
    "\n",
    "# Plot networks\n",
    "nx.draw_networkx(G, pos,\n",
    "                 font_size=16,\n",
    "                 width=1,\n",
    "                 edge_color='grey',\n",
    "                 node_color='purple',\n",
    "                 with_labels = False,\n",
    "                 ax=ax)\n",
    "\n",
    "# Create offset labels\n",
    "for key, value in pos.items():\n",
    "    x, y = value[0]+.135, value[1]+.045\n",
    "    ax.text(x, y,\n",
    "            s=key,\n",
    "            bbox=dict(facecolor='red', alpha=0.1),\n",
    "            horizontalalignment='center', fontsize=8)\n",
    "    \n",
    "plt.show()"
   ]
  },
  {
   "cell_type": "markdown",
   "metadata": {},
   "source": [
    "## What I've learnt:\n",
    "\n",
    "* get familiar with Twitter API and tweepy moule in python: fetch and post tweets and reply to tweets, 7 days, no clean geo data\n",
    "* writing simple functions and use pandas.apply() method\n",
    "* regular expressions\n",
    "* sentiment analysis basics and NLP basics with nltk package\n",
    "* correlations between hashtags used in tweets\n",
    "* from fetched data majority of the posts are from people against #querdenken movement; to get #querdenken posts one might look into telegram"
   ]
  },
  {
   "cell_type": "code",
   "execution_count": null,
   "metadata": {},
   "outputs": [],
   "source": []
  }
 ],
 "metadata": {
  "kernelspec": {
   "display_name": "Python 3",
   "language": "python",
   "name": "python3"
  },
  "language_info": {
   "codemirror_mode": {
    "name": "ipython",
    "version": 3
   },
   "file_extension": ".py",
   "mimetype": "text/x-python",
   "name": "python",
   "nbconvert_exporter": "python",
   "pygments_lexer": "ipython3",
   "version": "3.7.4"
  }
 },
 "nbformat": 4,
 "nbformat_minor": 2
}
